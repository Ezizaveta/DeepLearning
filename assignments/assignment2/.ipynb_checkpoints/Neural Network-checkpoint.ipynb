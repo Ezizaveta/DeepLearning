{
 "cells": [
  {
   "cell_type": "markdown",
   "metadata": {},
   "source": [
    "# Задание 2.1 - Нейронные сети\n",
    "\n",
    "В этом задании вы реализуете и натренируете настоящую нейроную сеть своими руками!\n",
    "\n",
    "В некотором смысле это будет расширением прошлого задания - нам нужно просто составить несколько линейных классификаторов вместе!\n",
    "\n",
    "<img src=\"https://i.redd.it/n9fgba8b0qr01.png\" alt=\"Stack_more_layers\" width=\"400px\"/>"
   ]
  },
  {
   "cell_type": "code",
   "execution_count": 25,
   "metadata": {},
   "outputs": [
    {
     "name": "stdout",
     "output_type": "stream",
     "text": [
      "The autoreload extension is already loaded. To reload it, use:\n",
      "  %reload_ext autoreload\n"
     ]
    }
   ],
   "source": [
    "import numpy as np\n",
    "import matplotlib.pyplot as plt\n",
    "\n",
    "%matplotlib inline\n",
    "\n",
    "%load_ext autoreload\n",
    "%autoreload 2"
   ]
  },
  {
   "cell_type": "code",
   "execution_count": 26,
   "metadata": {},
   "outputs": [],
   "source": [
    "from dataset import load_svhn, random_split_train_val\n",
    "from gradient_check import check_layer_gradient, check_layer_param_gradient, check_model_gradient\n",
    "from layers import FullyConnectedLayer, ReLULayer\n",
    "from model import TwoLayerNet\n",
    "from trainer import Trainer, Dataset\n",
    "from optim import SGD, MomentumSGD\n",
    "from metrics import multiclass_accuracy"
   ]
  },
  {
   "cell_type": "markdown",
   "metadata": {},
   "source": [
    "# Загружаем данные\n",
    "\n",
    "И разделяем их на training и validation."
   ]
  },
  {
   "cell_type": "code",
   "execution_count": 27,
   "metadata": {},
   "outputs": [],
   "source": [
    "def prepare_for_neural_network(train_X, test_X):\n",
    "    train_flat = train_X.reshape(train_X.shape[0], -1).astype(float) / 255.0\n",
    "    test_flat = test_X.reshape(test_X.shape[0], -1).astype(float) / 255.0\n",
    "    \n",
    "    # Subtract mean\n",
    "    mean_image = np.mean(train_flat, axis = 0)\n",
    "    train_flat -= mean_image\n",
    "    test_flat -= mean_image\n",
    "    \n",
    "    return train_flat, test_flat\n",
    "    \n",
    "train_X, train_y, test_X, test_y = load_svhn(\"data\", max_train=10000, max_test=1000)    \n",
    "train_X, test_X = prepare_for_neural_network(train_X, test_X)\n",
    "# Split train into train and val\n",
    "train_X, train_y, val_X, val_y = random_split_train_val(train_X, train_y, num_val = 1000)"
   ]
  },
  {
   "cell_type": "markdown",
   "metadata": {},
   "source": [
    "# Как всегда, начинаем с кирпичиков\n",
    "\n",
    "Мы будем реализовывать необходимые нам слои по очереди. Каждый слой должен реализовать:\n",
    "- прямой проход (forward pass), который генерирует выход слоя по входу и запоминает необходимые данные\n",
    "- обратный проход (backward pass), который получает градиент по выходу слоя и вычисляет градиент по входу и по параметрам\n",
    "\n",
    "Начнем с ReLU, у которого параметров нет."
   ]
  },
  {
   "cell_type": "code",
   "execution_count": 28,
   "metadata": {
    "scrolled": false
   },
   "outputs": [
    {
     "name": "stdout",
     "output_type": "stream",
     "text": [
      "Gradient check passed!\n"
     ]
    }
   ],
   "source": [
    "# TODO: Implement ReLULayer layer in layers.py\n",
    "# Note: you'll need to copy implementation of the gradient_check function from the previous assignment\n",
    "\n",
    "X = np.array([[1,-2,3],\n",
    "              [-1, 2, 0.1]\n",
    "              ])\n",
    "\n",
    "assert check_layer_gradient(ReLULayer(), X)"
   ]
  },
  {
   "cell_type": "markdown",
   "metadata": {},
   "source": [
    "А теперь реализуем полносвязный слой (fully connected layer), у которого будет два массива параметров: W (weights) и B (bias).\n",
    "\n",
    "Все параметры наши слои будут использовать для параметров специальный класс `Param`, в котором будут храниться значения параметров и градиенты этих параметров, вычисляемые во время обратного прохода.\n",
    "\n",
    "Это даст возможность аккумулировать (суммировать) градиенты из разных частей функции потерь, например, из cross-entropy loss и regularization loss."
   ]
  },
  {
   "cell_type": "code",
   "execution_count": 29,
   "metadata": {},
   "outputs": [
    {
     "name": "stdout",
     "output_type": "stream",
     "text": [
      "Gradient check passed!\n",
      "Gradient check passed!\n",
      "Gradient check passed!\n"
     ]
    }
   ],
   "source": [
    "# TODO: Implement FullyConnected layer forward and backward methods\n",
    "assert check_layer_gradient(FullyConnectedLayer(3, 4), X)\n",
    "# TODO: Implement storing gradients for W and B\n",
    "assert check_layer_param_gradient(FullyConnectedLayer(3, 4), X, 'W')\n",
    "assert check_layer_param_gradient(FullyConnectedLayer(3, 4), X, 'B')"
   ]
  },
  {
   "cell_type": "markdown",
   "metadata": {},
   "source": [
    "## Создаем нейронную сеть\n",
    "\n",
    "Теперь мы реализуем простейшую нейронную сеть с двумя полносвязным слоями и нелинейностью ReLU. Реализуйте функцию `compute_loss_and_gradients`, она должна запустить прямой и обратный проход через оба слоя для вычисления градиентов.\n",
    "\n",
    "Не забудьте реализовать очистку градиентов в начале функции."
   ]
  },
  {
   "cell_type": "code",
   "execution_count": 34,
   "metadata": {},
   "outputs": [
    {
     "name": "stdout",
     "output_type": "stream",
     "text": [
      "Checking gradient for W1\n",
      "Gradient check passed!\n",
      "Checking gradient for B1\n",
      "Gradient check passed!\n",
      "Checking gradient for W2\n",
      "Gradient check passed!\n",
      "Checking gradient for B2\n",
      "Gradient check passed!\n"
     ]
    },
    {
     "data": {
      "text/plain": [
       "True"
      ]
     },
     "execution_count": 34,
     "metadata": {},
     "output_type": "execute_result"
    }
   ],
   "source": [
    "# TODO: In model.py, implement compute_loss_and_gradients function\n",
    "model = TwoLayerNet(n_input = train_X.shape[1], n_output = 10, hidden_layer_size = 3, reg = 0)\n",
    "loss = model.compute_loss_and_gradients(train_X[:2], train_y[:2])\n",
    "\n",
    "# TODO Now implement backward pass and aggregate all of the params\n",
    "check_model_gradient(model, train_X[:2], train_y[:2])"
   ]
  },
  {
   "cell_type": "markdown",
   "metadata": {},
   "source": [
    "Теперь добавьте к модели регуляризацию - она должна прибавляться к loss и делать свой вклад в градиенты."
   ]
  },
  {
   "cell_type": "code",
   "execution_count": 36,
   "metadata": {},
   "outputs": [
    {
     "name": "stdout",
     "output_type": "stream",
     "text": [
      "Checking gradient for W1\n",
      "Gradient check passed!\n",
      "Checking gradient for B1\n",
      "Gradient check passed!\n",
      "Checking gradient for W2\n",
      "Gradient check passed!\n",
      "Checking gradient for B2\n",
      "Gradient check passed!\n"
     ]
    },
    {
     "data": {
      "text/plain": [
       "True"
      ]
     },
     "execution_count": 36,
     "metadata": {},
     "output_type": "execute_result"
    }
   ],
   "source": [
    "# TODO Now implement l2 regularization in the forward and backward pass\n",
    "model_with_reg = TwoLayerNet(n_input = train_X.shape[1], n_output = 10, hidden_layer_size = 3, reg = 1e1)\n",
    "loss_with_reg = model_with_reg.compute_loss_and_gradients(train_X[:2], train_y[:2])\n",
    "assert loss_with_reg > loss and not np.isclose(loss_with_reg, loss), \\\n",
    "    \"Loss with regularization (%2.4f) should be higher than without it (%2.4f)!\" % (loss, loss_with_reg)\n",
    "\n",
    "check_model_gradient(model_with_reg, train_X[:2], train_y[:2])"
   ]
  },
  {
   "cell_type": "markdown",
   "metadata": {},
   "source": [
    "Также реализуем функцию предсказания (вычисления значения) модели на новых данных.\n",
    "\n",
    "Какое значение точности мы ожидаем увидеть до начала тренировки?"
   ]
  },
  {
   "cell_type": "code",
   "execution_count": 40,
   "metadata": {},
   "outputs": [
    {
     "data": {
      "text/plain": [
       "0.03333333333333333"
      ]
     },
     "execution_count": 40,
     "metadata": {},
     "output_type": "execute_result"
    }
   ],
   "source": [
    "# Finally, implement predict function!\n",
    "\n",
    "# TODO: Implement predict function\n",
    "# What would be the value we expect?\n",
    "multiclass_accuracy(model_with_reg.predict(train_X[:30]), train_y[:30]) "
   ]
  },
  {
   "cell_type": "markdown",
   "metadata": {},
   "source": [
    "# Допишем код для процесса тренировки\n",
    "\n",
    "Если все реализовано корректно, значение функции ошибки должно уменьшаться с каждой эпохой, пусть и медленно. Не беспокойтесь пока про validation accuracy."
   ]
  },
  {
   "cell_type": "code",
   "execution_count": 42,
   "metadata": {},
   "outputs": [
    {
     "name": "stdout",
     "output_type": "stream",
     "text": [
      "Loss: 2.302348, Train accuracy: 0.196667, val accuracy: 0.206000\n",
      "Loss: 2.302875, Train accuracy: 0.196667, val accuracy: 0.206000\n",
      "Loss: 2.302039, Train accuracy: 0.196667, val accuracy: 0.206000\n",
      "Loss: 2.301424, Train accuracy: 0.148222, val accuracy: 0.140000\n",
      "Loss: 2.302487, Train accuracy: 0.196667, val accuracy: 0.206000\n",
      "Loss: 2.302074, Train accuracy: 0.196667, val accuracy: 0.206000\n",
      "Loss: 2.301584, Train accuracy: 0.196667, val accuracy: 0.206000\n",
      "Loss: 2.302304, Train accuracy: 0.196667, val accuracy: 0.206000\n",
      "Loss: 2.302168, Train accuracy: 0.196667, val accuracy: 0.206000\n",
      "Loss: 2.301600, Train accuracy: 0.196667, val accuracy: 0.206000\n",
      "Loss: 2.302183, Train accuracy: 0.196667, val accuracy: 0.206000\n",
      "Loss: 2.301962, Train accuracy: 0.196667, val accuracy: 0.206000\n",
      "Loss: 2.301674, Train accuracy: 0.196667, val accuracy: 0.206000\n",
      "Loss: 2.302109, Train accuracy: 0.196667, val accuracy: 0.206000\n",
      "Loss: 2.301978, Train accuracy: 0.196667, val accuracy: 0.206000\n",
      "Loss: 2.302015, Train accuracy: 0.148222, val accuracy: 0.140000\n",
      "Loss: 2.300661, Train accuracy: 0.196667, val accuracy: 0.206000\n",
      "Loss: 2.301559, Train accuracy: 0.196667, val accuracy: 0.206000\n",
      "Loss: 2.301189, Train accuracy: 0.196667, val accuracy: 0.206000\n",
      "Loss: 2.302178, Train accuracy: 0.196667, val accuracy: 0.206000\n"
     ]
    }
   ],
   "source": [
    "model = TwoLayerNet(n_input = train_X.shape[1], n_output = 10, hidden_layer_size = 100, reg = 1e1)\n",
    "dataset = Dataset(train_X, train_y, val_X, val_y)\n",
    "trainer = Trainer(model, dataset, SGD(), learning_rate = 1e-2)\n",
    "\n",
    "# TODO Implement missing pieces in Trainer.fit function\n",
    "# You should expect loss to go down every epoch, even if it's slow\n",
    "loss_history, train_history, val_history = trainer.fit()"
   ]
  },
  {
   "cell_type": "code",
   "execution_count": 44,
   "metadata": {},
   "outputs": [
    {
     "data": {
      "text/plain": [
       "[<matplotlib.lines.Line2D at 0x2d0c8e527a0>]"
      ]
     },
     "execution_count": 44,
     "metadata": {},
     "output_type": "execute_result"
    },
    {
     "data": {
      "image/png": "[encoded data removed]",
      "text/plain": [
       "<Figure size 640x480 with 1 Axes>"
      ]
     },
     "metadata": {},
     "output_type": "display_data"
    }
   ],
   "source": [
    "plt.plot(train_history)\n",
    "plt.plot(val_history)"
   ]
  },
  {
   "cell_type": "markdown",
   "metadata": {},
   "source": [
    "# Улучшаем процесс тренировки\n",
    "\n",
    "Мы реализуем несколько ключевых оптимизаций, необходимых для тренировки современных нейросетей."
   ]
  },
  {
   "cell_type": "markdown",
   "metadata": {},
   "source": [
    "## Уменьшение скорости обучения (learning rate decay)\n",
    "\n",
    "Одна из необходимых оптимизаций во время тренировки нейронных сетей - постепенное уменьшение скорости обучения по мере тренировки.\n",
    "\n",
    "Один из стандартных методов - уменьшение скорости обучения (learning rate) каждые N эпох на коэффициент d (часто называемый decay). Значения N и d, как всегда, являются гиперпараметрами и должны подбираться на основе эффективности на проверочных данных (validation data). \n",
    "\n",
    "В нашем случае N будет равным 1."
   ]
  },
  {
   "cell_type": "code",
   "execution_count": 45,
   "metadata": {},
   "outputs": [
    {
     "name": "stdout",
     "output_type": "stream",
     "text": [
      "Loss: 2.289478, Train accuracy: 0.196667, val accuracy: 0.206000\n",
      "Loss: 2.286036, Train accuracy: 0.196667, val accuracy: 0.206000\n",
      "Loss: 2.250125, Train accuracy: 0.196667, val accuracy: 0.206000\n",
      "Loss: 2.255643, Train accuracy: 0.196667, val accuracy: 0.206000\n",
      "Loss: 2.250744, Train accuracy: 0.196667, val accuracy: 0.206000\n",
      "Loss: 2.248934, Train accuracy: 0.196667, val accuracy: 0.206000\n",
      "Loss: 2.228716, Train accuracy: 0.196667, val accuracy: 0.206000\n",
      "Loss: 2.255380, Train accuracy: 0.196667, val accuracy: 0.206000\n",
      "Loss: 2.251313, Train accuracy: 0.196667, val accuracy: 0.206000\n",
      "Loss: 2.234686, Train accuracy: 0.196667, val accuracy: 0.206000\n",
      "Loss: 2.307919, Train accuracy: 0.196667, val accuracy: 0.206000\n",
      "Loss: 2.318112, Train accuracy: 0.196667, val accuracy: 0.206000\n",
      "Loss: 2.244564, Train accuracy: 0.196667, val accuracy: 0.206000\n",
      "Loss: 2.287060, Train accuracy: 0.196667, val accuracy: 0.206000\n",
      "Loss: 2.220537, Train accuracy: 0.196667, val accuracy: 0.206000\n",
      "Loss: 2.204920, Train accuracy: 0.196667, val accuracy: 0.206000\n",
      "Loss: 2.288510, Train accuracy: 0.196667, val accuracy: 0.206000\n",
      "Loss: 2.239441, Train accuracy: 0.196667, val accuracy: 0.206000\n",
      "Loss: 2.244621, Train accuracy: 0.196667, val accuracy: 0.206000\n",
      "Loss: 2.281086, Train accuracy: 0.196667, val accuracy: 0.206000\n"
     ]
    }
   ],
   "source": [
    "# TODO Implement learning rate decay inside Trainer.fit method\n",
    "# Decay should happen once per epoch\n",
    "\n",
    "model = TwoLayerNet(n_input = train_X.shape[1], n_output = 10, hidden_layer_size = 100, reg = 1e-1)\n",
    "dataset = Dataset(train_X, train_y, val_X, val_y)\n",
    "trainer = Trainer(model, dataset, SGD(), learning_rate_decay=0.99)\n",
    "\n",
    "initial_learning_rate = trainer.learning_rate\n",
    "loss_history, train_history, val_history = trainer.fit()\n",
    "\n",
    "assert trainer.learning_rate < initial_learning_rate, \"Learning rate should've been reduced\"\n",
    "assert trainer.learning_rate > 0.5*initial_learning_rate, \"Learning rate shouldn'tve been reduced that much!\""
   ]
  },
  {
   "cell_type": "markdown",
   "metadata": {},
   "source": [
    "# Накопление импульса (Momentum SGD)\n",
    "\n",
    "Другой большой класс оптимизаций - использование более эффективных методов градиентного спуска. Мы реализуем один из них - накопление импульса (Momentum SGD).\n",
    "\n",
    "Этот метод хранит скорость движения, использует градиент для ее изменения на каждом шаге, и изменяет веса пропорционально значению скорости.\n",
    "(Физическая аналогия: Вместо скорости градиенты теперь будут задавать ускорение, но будет присутствовать сила трения.)\n",
    "\n",
    "```\n",
    "velocity = momentum * velocity - learning_rate * gradient \n",
    "w = w + velocity\n",
    "```\n",
    "\n",
    "`momentum` здесь коэффициент затухания, который тоже является гиперпараметром (к счастью, для него часто есть хорошее значение по умолчанию, типичный диапазон -- 0.8-0.99).\n",
    "\n",
    "Несколько полезных ссылок, где метод разбирается более подробно:  \n",
    "http://cs231n.github.io/neural-networks-3/#sgd  \n",
    "https://distill.pub/2017/momentum/"
   ]
  },
  {
   "cell_type": "code",
   "execution_count": 46,
   "metadata": {},
   "outputs": [
    {
     "name": "stdout",
     "output_type": "stream",
     "text": [
      "Loss: 2.321081, Train accuracy: 0.196667, val accuracy: 0.206000\n",
      "Loss: 2.294499, Train accuracy: 0.196667, val accuracy: 0.206000\n",
      "Loss: 2.315556, Train accuracy: 0.196667, val accuracy: 0.206000\n",
      "Loss: 2.284009, Train accuracy: 0.196667, val accuracy: 0.206000\n",
      "Loss: 2.310112, Train accuracy: 0.196667, val accuracy: 0.206000\n",
      "Loss: 2.267601, Train accuracy: 0.196667, val accuracy: 0.206000\n",
      "Loss: 2.301248, Train accuracy: 0.196667, val accuracy: 0.206000\n",
      "Loss: 2.277083, Train accuracy: 0.196667, val accuracy: 0.206000\n",
      "Loss: 2.245010, Train accuracy: 0.196667, val accuracy: 0.206000\n",
      "Loss: 2.234023, Train accuracy: 0.196667, val accuracy: 0.206000\n",
      "Loss: 2.281566, Train accuracy: 0.196667, val accuracy: 0.206000\n",
      "Loss: 2.260345, Train accuracy: 0.196667, val accuracy: 0.206000\n",
      "Loss: 2.195758, Train accuracy: 0.196667, val accuracy: 0.206000\n",
      "Loss: 2.310826, Train accuracy: 0.196667, val accuracy: 0.206000\n",
      "Loss: 2.250216, Train accuracy: 0.196667, val accuracy: 0.206000\n",
      "Loss: 2.336742, Train accuracy: 0.196667, val accuracy: 0.206000\n",
      "Loss: 2.219483, Train accuracy: 0.196667, val accuracy: 0.206000\n",
      "Loss: 2.240313, Train accuracy: 0.196667, val accuracy: 0.206000\n",
      "Loss: 2.249864, Train accuracy: 0.196667, val accuracy: 0.206000\n",
      "Loss: 2.277773, Train accuracy: 0.196667, val accuracy: 0.206000\n"
     ]
    }
   ],
   "source": [
    "# TODO: Implement MomentumSGD.update function in optim.py\n",
    "\n",
    "model = TwoLayerNet(n_input = train_X.shape[1], n_output = 10, hidden_layer_size = 100, reg = 1e-1)\n",
    "dataset = Dataset(train_X, train_y, val_X, val_y)\n",
    "trainer = Trainer(model, dataset, MomentumSGD(), learning_rate=1e-4, learning_rate_decay=0.99)\n",
    "\n",
    "# You should see even better results than before!\n",
    "loss_history, train_history, val_history = trainer.fit()"
   ]
  },
  {
   "cell_type": "markdown",
   "metadata": {},
   "source": [
    "# Ну что, давайте уже тренировать сеть!"
   ]
  },
  {
   "cell_type": "markdown",
   "metadata": {},
   "source": [
    "## Последний тест - переобучимся (overfit) на маленьком наборе данных\n",
    "\n",
    "Хороший способ проверить, все ли реализовано корректно - переобучить сеть на маленьком наборе данных.  \n",
    "Наша модель обладает достаточной мощностью, чтобы приблизить маленький набор данных идеально, поэтому мы ожидаем, что на нем мы быстро дойдем до 100% точности на тренировочном наборе. \n",
    "\n",
    "Если этого не происходит, то где-то была допущена ошибка!"
   ]
  },
  {
   "cell_type": "code",
   "execution_count": 47,
   "metadata": {},
   "outputs": [
    {
     "name": "stdout",
     "output_type": "stream",
     "text": [
      "Loss: 2.335596, Train accuracy: 0.200000, val accuracy: 0.133333\n",
      "Loss: 2.328028, Train accuracy: 0.200000, val accuracy: 0.066667\n",
      "Loss: 2.298312, Train accuracy: 0.200000, val accuracy: 0.066667\n",
      "Loss: 2.309294, Train accuracy: 0.200000, val accuracy: 0.066667\n",
      "Loss: 2.311459, Train accuracy: 0.200000, val accuracy: 0.133333\n",
      "Loss: 2.254562, Train accuracy: 0.200000, val accuracy: 0.066667\n",
      "Loss: 2.291144, Train accuracy: 0.266667, val accuracy: 0.000000\n",
      "Loss: 2.372631, Train accuracy: 0.266667, val accuracy: 0.000000\n",
      "Loss: 2.105980, Train accuracy: 0.400000, val accuracy: 0.000000\n",
      "Loss: 2.273557, Train accuracy: 0.400000, val accuracy: 0.000000\n",
      "Loss: 2.090072, Train accuracy: 0.400000, val accuracy: 0.000000\n",
      "Loss: 2.221020, Train accuracy: 0.400000, val accuracy: 0.000000\n",
      "Loss: 2.091963, Train accuracy: 0.400000, val accuracy: 0.000000\n",
      "Loss: 2.120796, Train accuracy: 0.333333, val accuracy: 0.000000\n",
      "Loss: 2.053738, Train accuracy: 0.333333, val accuracy: 0.000000\n",
      "Loss: 1.680244, Train accuracy: 0.333333, val accuracy: 0.000000\n",
      "Loss: 1.957217, Train accuracy: 0.333333, val accuracy: 0.000000\n",
      "Loss: 1.228284, Train accuracy: 0.333333, val accuracy: 0.000000\n",
      "Loss: 1.397840, Train accuracy: 0.400000, val accuracy: 0.000000\n",
      "Loss: 1.382045, Train accuracy: 0.400000, val accuracy: 0.000000\n",
      "Loss: 1.964397, Train accuracy: 0.466667, val accuracy: 0.000000\n",
      "Loss: 1.987698, Train accuracy: 0.400000, val accuracy: 0.000000\n",
      "Loss: 1.434822, Train accuracy: 0.400000, val accuracy: 0.000000\n",
      "Loss: 1.258515, Train accuracy: 0.466667, val accuracy: 0.000000\n",
      "Loss: 2.024869, Train accuracy: 0.466667, val accuracy: 0.066667\n",
      "Loss: 1.755472, Train accuracy: 0.466667, val accuracy: 0.066667\n",
      "Loss: 1.558860, Train accuracy: 0.466667, val accuracy: 0.066667\n",
      "Loss: 2.037185, Train accuracy: 0.466667, val accuracy: 0.066667\n",
      "Loss: 1.337010, Train accuracy: 0.466667, val accuracy: 0.066667\n",
      "Loss: 1.702883, Train accuracy: 0.466667, val accuracy: 0.066667\n",
      "Loss: 1.772042, Train accuracy: 0.533333, val accuracy: 0.000000\n",
      "Loss: 1.484866, Train accuracy: 0.533333, val accuracy: 0.000000\n",
      "Loss: 1.374063, Train accuracy: 0.600000, val accuracy: 0.000000\n",
      "Loss: 1.543744, Train accuracy: 0.600000, val accuracy: 0.066667\n",
      "Loss: 1.910731, Train accuracy: 0.666667, val accuracy: 0.066667\n",
      "Loss: 2.028342, Train accuracy: 0.533333, val accuracy: 0.066667\n",
      "Loss: 2.151234, Train accuracy: 0.666667, val accuracy: 0.066667\n",
      "Loss: 1.785354, Train accuracy: 0.600000, val accuracy: 0.066667\n",
      "Loss: 1.355137, Train accuracy: 0.666667, val accuracy: 0.066667\n",
      "Loss: 1.982058, Train accuracy: 0.666667, val accuracy: 0.066667\n",
      "Loss: 1.648222, Train accuracy: 0.666667, val accuracy: 0.066667\n",
      "Loss: 1.485156, Train accuracy: 0.666667, val accuracy: 0.000000\n",
      "Loss: 2.135213, Train accuracy: 0.666667, val accuracy: 0.066667\n",
      "Loss: 1.413405, Train accuracy: 0.666667, val accuracy: 0.066667\n",
      "Loss: 1.560067, Train accuracy: 0.666667, val accuracy: 0.000000\n",
      "Loss: 1.201654, Train accuracy: 0.666667, val accuracy: 0.066667\n",
      "Loss: 1.764649, Train accuracy: 0.733333, val accuracy: 0.133333\n",
      "Loss: 0.987142, Train accuracy: 0.733333, val accuracy: 0.133333\n",
      "Loss: 0.946477, Train accuracy: 0.733333, val accuracy: 0.133333\n",
      "Loss: 1.303116, Train accuracy: 0.733333, val accuracy: 0.066667\n",
      "Loss: 1.573807, Train accuracy: 0.666667, val accuracy: 0.000000\n",
      "Loss: 1.584186, Train accuracy: 0.733333, val accuracy: 0.000000\n",
      "Loss: 1.657518, Train accuracy: 0.733333, val accuracy: 0.066667\n",
      "Loss: 1.543031, Train accuracy: 0.733333, val accuracy: 0.133333\n",
      "Loss: 1.418808, Train accuracy: 0.733333, val accuracy: 0.066667\n",
      "Loss: 2.021613, Train accuracy: 0.733333, val accuracy: 0.066667\n",
      "Loss: 1.737394, Train accuracy: 0.733333, val accuracy: 0.066667\n",
      "Loss: 1.564728, Train accuracy: 0.733333, val accuracy: 0.066667\n",
      "Loss: 1.199169, Train accuracy: 0.733333, val accuracy: 0.066667\n",
      "Loss: 0.841921, Train accuracy: 0.733333, val accuracy: 0.066667\n",
      "Loss: 1.282365, Train accuracy: 0.733333, val accuracy: 0.066667\n",
      "Loss: 1.729880, Train accuracy: 0.733333, val accuracy: 0.066667\n",
      "Loss: 1.413336, Train accuracy: 0.733333, val accuracy: 0.066667\n",
      "Loss: 1.607967, Train accuracy: 0.733333, val accuracy: 0.066667\n",
      "Loss: 1.679939, Train accuracy: 0.733333, val accuracy: 0.066667\n",
      "Loss: 2.137639, Train accuracy: 0.733333, val accuracy: 0.066667\n",
      "Loss: 1.295238, Train accuracy: 0.733333, val accuracy: 0.066667\n",
      "Loss: 1.250148, Train accuracy: 0.733333, val accuracy: 0.066667\n",
      "Loss: 1.649634, Train accuracy: 0.733333, val accuracy: 0.066667\n",
      "Loss: 0.982836, Train accuracy: 0.733333, val accuracy: 0.066667\n",
      "Loss: 0.990736, Train accuracy: 0.733333, val accuracy: 0.066667\n",
      "Loss: 1.602816, Train accuracy: 0.733333, val accuracy: 0.066667\n",
      "Loss: 1.341441, Train accuracy: 0.733333, val accuracy: 0.066667\n",
      "Loss: 0.992132, Train accuracy: 0.733333, val accuracy: 0.066667\n",
      "Loss: 1.504493, Train accuracy: 0.733333, val accuracy: 0.066667\n",
      "Loss: 1.736667, Train accuracy: 0.733333, val accuracy: 0.066667\n",
      "Loss: 1.260052, Train accuracy: 0.733333, val accuracy: 0.066667\n",
      "Loss: 1.389462, Train accuracy: 0.733333, val accuracy: 0.066667\n",
      "Loss: 1.703992, Train accuracy: 0.733333, val accuracy: 0.066667\n",
      "Loss: 1.370718, Train accuracy: 0.733333, val accuracy: 0.066667\n",
      "Loss: 0.987954, Train accuracy: 0.733333, val accuracy: 0.066667\n",
      "Loss: 0.954089, Train accuracy: 0.733333, val accuracy: 0.066667\n",
      "Loss: 1.217721, Train accuracy: 0.733333, val accuracy: 0.066667\n",
      "Loss: 1.368253, Train accuracy: 0.733333, val accuracy: 0.066667\n",
      "Loss: 0.902365, Train accuracy: 0.800000, val accuracy: 0.066667\n",
      "Loss: 0.956669, Train accuracy: 0.733333, val accuracy: 0.066667\n",
      "Loss: 1.207679, Train accuracy: 0.800000, val accuracy: 0.066667\n",
      "Loss: 1.965610, Train accuracy: 0.800000, val accuracy: 0.066667\n",
      "Loss: 1.609689, Train accuracy: 0.800000, val accuracy: 0.066667\n",
      "Loss: 1.634303, Train accuracy: 0.800000, val accuracy: 0.066667\n",
      "Loss: 1.603482, Train accuracy: 0.800000, val accuracy: 0.066667\n",
      "Loss: 1.034125, Train accuracy: 0.800000, val accuracy: 0.066667\n",
      "Loss: 1.052507, Train accuracy: 0.800000, val accuracy: 0.066667\n",
      "Loss: 1.524737, Train accuracy: 0.800000, val accuracy: 0.066667\n",
      "Loss: 1.582484, Train accuracy: 0.800000, val accuracy: 0.066667\n",
      "Loss: 1.313098, Train accuracy: 0.800000, val accuracy: 0.066667\n",
      "Loss: 1.523136, Train accuracy: 0.800000, val accuracy: 0.066667\n",
      "Loss: 1.185298, Train accuracy: 0.800000, val accuracy: 0.066667\n",
      "Loss: 1.373802, Train accuracy: 0.866667, val accuracy: 0.066667\n",
      "Loss: 1.209195, Train accuracy: 0.866667, val accuracy: 0.066667\n",
      "Loss: 1.681323, Train accuracy: 0.866667, val accuracy: 0.066667\n",
      "Loss: 1.254805, Train accuracy: 0.866667, val accuracy: 0.066667\n",
      "Loss: 1.078024, Train accuracy: 0.866667, val accuracy: 0.066667\n",
      "Loss: 1.293694, Train accuracy: 0.866667, val accuracy: 0.066667\n",
      "Loss: 1.800186, Train accuracy: 0.866667, val accuracy: 0.066667\n",
      "Loss: 1.477185, Train accuracy: 0.866667, val accuracy: 0.066667\n",
      "Loss: 0.957224, Train accuracy: 0.866667, val accuracy: 0.066667\n",
      "Loss: 1.710162, Train accuracy: 0.866667, val accuracy: 0.066667\n",
      "Loss: 1.665716, Train accuracy: 0.866667, val accuracy: 0.066667\n",
      "Loss: 1.632128, Train accuracy: 0.933333, val accuracy: 0.066667\n",
      "Loss: 1.425530, Train accuracy: 0.933333, val accuracy: 0.066667\n",
      "Loss: 1.255333, Train accuracy: 0.866667, val accuracy: 0.066667\n",
      "Loss: 1.265752, Train accuracy: 0.933333, val accuracy: 0.000000\n",
      "Loss: 1.321727, Train accuracy: 0.933333, val accuracy: 0.000000\n",
      "Loss: 1.179084, Train accuracy: 0.866667, val accuracy: 0.000000\n",
      "Loss: 1.383486, Train accuracy: 0.933333, val accuracy: 0.066667\n",
      "Loss: 1.515841, Train accuracy: 1.000000, val accuracy: 0.000000\n",
      "Loss: 1.608841, Train accuracy: 1.000000, val accuracy: 0.000000\n",
      "Loss: 0.969395, Train accuracy: 0.933333, val accuracy: 0.000000\n",
      "Loss: 1.317653, Train accuracy: 0.933333, val accuracy: 0.000000\n",
      "Loss: 1.391311, Train accuracy: 1.000000, val accuracy: 0.000000\n",
      "Loss: 1.335647, Train accuracy: 0.933333, val accuracy: 0.000000\n",
      "Loss: 1.632527, Train accuracy: 1.000000, val accuracy: 0.000000\n",
      "Loss: 1.331227, Train accuracy: 1.000000, val accuracy: 0.000000\n",
      "Loss: 1.045166, Train accuracy: 1.000000, val accuracy: 0.000000\n",
      "Loss: 1.455496, Train accuracy: 1.000000, val accuracy: 0.000000\n",
      "Loss: 1.315750, Train accuracy: 1.000000, val accuracy: 0.000000\n",
      "Loss: 1.219317, Train accuracy: 1.000000, val accuracy: 0.000000\n",
      "Loss: 1.478666, Train accuracy: 1.000000, val accuracy: 0.000000\n",
      "Loss: 1.193802, Train accuracy: 1.000000, val accuracy: 0.000000\n",
      "Loss: 1.132043, Train accuracy: 1.000000, val accuracy: 0.000000\n",
      "Loss: 1.363939, Train accuracy: 1.000000, val accuracy: 0.000000\n"
     ]
    },
    {
     "name": "stdout",
     "output_type": "stream",
     "text": [
      "Loss: 1.558497, Train accuracy: 1.000000, val accuracy: 0.000000\n",
      "Loss: 1.141432, Train accuracy: 1.000000, val accuracy: 0.000000\n",
      "Loss: 1.269027, Train accuracy: 1.000000, val accuracy: 0.000000\n",
      "Loss: 1.136294, Train accuracy: 1.000000, val accuracy: 0.000000\n",
      "Loss: 1.496955, Train accuracy: 1.000000, val accuracy: 0.000000\n",
      "Loss: 1.428743, Train accuracy: 1.000000, val accuracy: 0.000000\n",
      "Loss: 1.169489, Train accuracy: 1.000000, val accuracy: 0.000000\n",
      "Loss: 1.106098, Train accuracy: 1.000000, val accuracy: 0.000000\n",
      "Loss: 1.296168, Train accuracy: 1.000000, val accuracy: 0.000000\n",
      "Loss: 1.185203, Train accuracy: 1.000000, val accuracy: 0.000000\n",
      "Loss: 1.393921, Train accuracy: 1.000000, val accuracy: 0.000000\n",
      "Loss: 1.360359, Train accuracy: 1.000000, val accuracy: 0.000000\n",
      "Loss: 1.211584, Train accuracy: 1.000000, val accuracy: 0.000000\n",
      "Loss: 1.200125, Train accuracy: 1.000000, val accuracy: 0.000000\n",
      "Loss: 1.335572, Train accuracy: 1.000000, val accuracy: 0.000000\n",
      "Loss: 1.301751, Train accuracy: 1.000000, val accuracy: 0.000000\n",
      "Loss: 1.233544, Train accuracy: 1.000000, val accuracy: 0.000000\n",
      "Loss: 1.265634, Train accuracy: 1.000000, val accuracy: 0.000000\n"
     ]
    }
   ],
   "source": [
    "data_size = 15\n",
    "model = TwoLayerNet(n_input = train_X.shape[1], n_output = 10, hidden_layer_size = 100, reg = 1e-1)\n",
    "dataset = Dataset(train_X[:data_size], train_y[:data_size], val_X[:data_size], val_y[:data_size])\n",
    "trainer = Trainer(model, dataset, SGD(), learning_rate=1e-1, num_epochs=150, batch_size=5)\n",
    "\n",
    "# You should expect this to reach 1.0 training accuracy \n",
    "loss_history, train_history, val_history = trainer.fit()"
   ]
  },
  {
   "cell_type": "markdown",
   "metadata": {},
   "source": [
    "Теперь найдем гипепараметры, для которых этот процесс сходится быстрее.\n",
    "Если все реализовано корректно, то существуют параметры, при которых процесс сходится в **20** эпох или еще быстрее.\n",
    "Найдите их!"
   ]
  },
  {
   "cell_type": "code",
   "execution_count": 48,
   "metadata": {},
   "outputs": [
    {
     "name": "stdout",
     "output_type": "stream",
     "text": [
      "Loss: 2.335177, Train accuracy: 0.200000, val accuracy: 0.133333\n",
      "Loss: 2.320163, Train accuracy: 0.200000, val accuracy: 0.133333\n",
      "Loss: 2.295957, Train accuracy: 0.200000, val accuracy: 0.133333\n",
      "Loss: 2.307697, Train accuracy: 0.200000, val accuracy: 0.133333\n",
      "Loss: 2.330499, Train accuracy: 0.200000, val accuracy: 0.133333\n",
      "Loss: 2.253481, Train accuracy: 0.266667, val accuracy: 0.000000\n",
      "Loss: 2.253395, Train accuracy: 0.266667, val accuracy: 0.000000\n",
      "Loss: 2.261431, Train accuracy: 0.266667, val accuracy: 0.000000\n",
      "Loss: 2.090736, Train accuracy: 0.400000, val accuracy: 0.000000\n",
      "Loss: 1.806350, Train accuracy: 0.400000, val accuracy: 0.000000\n",
      "Loss: 2.010909, Train accuracy: 0.400000, val accuracy: 0.000000\n",
      "Loss: 1.800035, Train accuracy: 0.400000, val accuracy: 0.000000\n",
      "Loss: 1.811216, Train accuracy: 0.400000, val accuracy: 0.000000\n",
      "Loss: 1.919001, Train accuracy: 0.333333, val accuracy: 0.000000\n",
      "Loss: 2.116000, Train accuracy: 0.333333, val accuracy: 0.000000\n",
      "Loss: 2.086602, Train accuracy: 0.333333, val accuracy: 0.000000\n",
      "Loss: 1.357043, Train accuracy: 0.333333, val accuracy: 0.000000\n",
      "Loss: 1.875307, Train accuracy: 0.400000, val accuracy: 0.000000\n",
      "Loss: 1.541766, Train accuracy: 0.400000, val accuracy: 0.000000\n",
      "Loss: 1.147413, Train accuracy: 0.400000, val accuracy: 0.000000\n"
     ]
    }
   ],
   "source": [
    "# Now, tweak some hyper parameters and make it train to 1.0 accuracy in 20 epochs or less\n",
    "\n",
    "model = TwoLayerNet(n_input = train_X.shape[1], n_output = 10, hidden_layer_size = 100, reg = 1e-1)\n",
    "dataset = Dataset(train_X[:data_size], train_y[:data_size], val_X[:data_size], val_y[:data_size])\n",
    "# TODO: Change any hyperparamers or optimizators to reach training accuracy in 20 epochs\n",
    "trainer = Trainer(model, dataset, SGD(), learning_rate=1e-1, num_epochs=20, batch_size=5)\n",
    "\n",
    "loss_history, train_history, val_history = trainer.fit()"
   ]
  },
  {
   "cell_type": "markdown",
   "metadata": {},
   "source": [
    "# Итак, основное мероприятие!\n",
    "\n",
    "Натренируйте лучшую нейросеть! Можно добавлять и изменять параметры, менять количество нейронов в слоях сети и как угодно экспериментировать. \n",
    "\n",
    "Добейтесь точности лучше **60%** на validation set."
   ]
  },
  {
   "cell_type": "code",
   "execution_count": 59,
   "metadata": {
    "scrolled": true
   },
   "outputs": [
    {
     "name": "stdout",
     "output_type": "stream",
     "text": [
      "Loss: 2.149244, Train accuracy: 0.218222, val accuracy: 0.226000\n",
      "Loss: 1.929262, Train accuracy: 0.383444, val accuracy: 0.382000\n",
      "Loss: 1.343777, Train accuracy: 0.552222, val accuracy: 0.557000\n",
      "Loss: 1.466518, Train accuracy: 0.636778, val accuracy: 0.622000\n",
      "Loss: 1.278750, Train accuracy: 0.683667, val accuracy: 0.663000\n",
      "Loss: 1.116603, Train accuracy: 0.693111, val accuracy: 0.668000\n",
      "Loss: 1.464186, Train accuracy: 0.717333, val accuracy: 0.695000\n",
      "Loss: 0.933892, Train accuracy: 0.741889, val accuracy: 0.705000\n",
      "Loss: 1.096482, Train accuracy: 0.724444, val accuracy: 0.677000\n",
      "Loss: 1.575111, Train accuracy: 0.729222, val accuracy: 0.685000\n",
      "Loss: 1.550814, Train accuracy: 0.738444, val accuracy: 0.681000\n",
      "Loss: 1.205404, Train accuracy: 0.773111, val accuracy: 0.702000\n",
      "Loss: 1.093163, Train accuracy: 0.761667, val accuracy: 0.716000\n",
      "Loss: 1.013761, Train accuracy: 0.782556, val accuracy: 0.717000\n",
      "Loss: 1.042580, Train accuracy: 0.805000, val accuracy: 0.734000\n",
      "Loss: 1.077005, Train accuracy: 0.801556, val accuracy: 0.704000\n",
      "Loss: 1.307152, Train accuracy: 0.815000, val accuracy: 0.715000\n",
      "Loss: 1.423373, Train accuracy: 0.793556, val accuracy: 0.703000\n",
      "Loss: 1.454606, Train accuracy: 0.828000, val accuracy: 0.718000\n",
      "Loss: 1.189301, Train accuracy: 0.823667, val accuracy: 0.721000\n",
      "Loss: 0.824677, Train accuracy: 0.804444, val accuracy: 0.714000\n",
      "Loss: 1.059823, Train accuracy: 0.792111, val accuracy: 0.705000\n",
      "Loss: 0.909731, Train accuracy: 0.807222, val accuracy: 0.724000\n",
      "Loss: 0.863767, Train accuracy: 0.814889, val accuracy: 0.723000\n",
      "Loss: 0.831903, Train accuracy: 0.813111, val accuracy: 0.731000\n",
      "Loss: 0.676371, Train accuracy: 0.830778, val accuracy: 0.736000\n",
      "Loss: 0.889340, Train accuracy: 0.834889, val accuracy: 0.738000\n",
      "Loss: 0.766169, Train accuracy: 0.825333, val accuracy: 0.732000\n",
      "Loss: 1.163631, Train accuracy: 0.851556, val accuracy: 0.745000\n",
      "Loss: 0.911916, Train accuracy: 0.844111, val accuracy: 0.759000\n",
      "Loss: 0.712078, Train accuracy: 0.838556, val accuracy: 0.734000\n",
      "Loss: 0.717083, Train accuracy: 0.854000, val accuracy: 0.748000\n",
      "Loss: 0.910357, Train accuracy: 0.816444, val accuracy: 0.720000\n",
      "Loss: 1.152849, Train accuracy: 0.860444, val accuracy: 0.749000\n",
      "Loss: 0.927667, Train accuracy: 0.840111, val accuracy: 0.728000\n",
      "Loss: 0.885556, Train accuracy: 0.858889, val accuracy: 0.743000\n",
      "Loss: 1.085390, Train accuracy: 0.830556, val accuracy: 0.735000\n",
      "Loss: 1.143167, Train accuracy: 0.861889, val accuracy: 0.739000\n",
      "Loss: 1.074455, Train accuracy: 0.857000, val accuracy: 0.752000\n",
      "Loss: 0.904261, Train accuracy: 0.841000, val accuracy: 0.743000\n",
      "Loss: 1.142209, Train accuracy: 0.856222, val accuracy: 0.741000\n",
      "Loss: 0.760132, Train accuracy: 0.862889, val accuracy: 0.746000\n",
      "Loss: 0.845658, Train accuracy: 0.824111, val accuracy: 0.705000\n",
      "Loss: 1.001161, Train accuracy: 0.870333, val accuracy: 0.739000\n",
      "Loss: 0.842867, Train accuracy: 0.852889, val accuracy: 0.746000\n",
      "Loss: 1.108778, Train accuracy: 0.859222, val accuracy: 0.756000\n",
      "Loss: 0.985365, Train accuracy: 0.839222, val accuracy: 0.729000\n",
      "Loss: 0.892358, Train accuracy: 0.871778, val accuracy: 0.762000\n",
      "Loss: 1.284556, Train accuracy: 0.846778, val accuracy: 0.727000\n",
      "Loss: 1.030829, Train accuracy: 0.847222, val accuracy: 0.748000\n",
      "Loss: 1.046162, Train accuracy: 0.865222, val accuracy: 0.743000\n",
      "Loss: 1.428059, Train accuracy: 0.864444, val accuracy: 0.760000\n",
      "Loss: 0.924552, Train accuracy: 0.855111, val accuracy: 0.734000\n",
      "Loss: 0.987872, Train accuracy: 0.841000, val accuracy: 0.732000\n",
      "Loss: 1.095775, Train accuracy: 0.842111, val accuracy: 0.744000\n",
      "Loss: 1.022511, Train accuracy: 0.876444, val accuracy: 0.742000\n",
      "Loss: 0.957234, Train accuracy: 0.865889, val accuracy: 0.747000\n",
      "Loss: 0.636411, Train accuracy: 0.848222, val accuracy: 0.744000\n",
      "Loss: 0.842262, Train accuracy: 0.864333, val accuracy: 0.739000\n",
      "Loss: 0.869523, Train accuracy: 0.854778, val accuracy: 0.755000\n",
      "Loss: 0.791430, Train accuracy: 0.858333, val accuracy: 0.748000\n",
      "Loss: 0.697232, Train accuracy: 0.845222, val accuracy: 0.731000\n",
      "Loss: 0.687768, Train accuracy: 0.868889, val accuracy: 0.751000\n",
      "Loss: 1.159946, Train accuracy: 0.833667, val accuracy: 0.732000\n",
      "Loss: 0.878934, Train accuracy: 0.841000, val accuracy: 0.737000\n",
      "Loss: 1.388597, Train accuracy: 0.822000, val accuracy: 0.725000\n",
      "Loss: 0.924245, Train accuracy: 0.832889, val accuracy: 0.702000\n",
      "Loss: 0.804339, Train accuracy: 0.857222, val accuracy: 0.746000\n",
      "Loss: 0.890881, Train accuracy: 0.861556, val accuracy: 0.743000\n",
      "Loss: 0.816405, Train accuracy: 0.843667, val accuracy: 0.737000\n",
      "Loss: 0.737197, Train accuracy: 0.882111, val accuracy: 0.758000\n",
      "Loss: 1.057718, Train accuracy: 0.866667, val accuracy: 0.754000\n",
      "Loss: 0.764218, Train accuracy: 0.864444, val accuracy: 0.761000\n",
      "Loss: 0.993913, Train accuracy: 0.852444, val accuracy: 0.747000\n",
      "Loss: 0.776675, Train accuracy: 0.871778, val accuracy: 0.739000\n",
      "Loss: 0.957117, Train accuracy: 0.832889, val accuracy: 0.720000\n",
      "Loss: 0.916911, Train accuracy: 0.825778, val accuracy: 0.715000\n",
      "Loss: 1.033855, Train accuracy: 0.850889, val accuracy: 0.729000\n",
      "Loss: 0.743103, Train accuracy: 0.891889, val accuracy: 0.755000\n",
      "Loss: 1.034939, Train accuracy: 0.868333, val accuracy: 0.751000\n",
      "Loss: 0.595846, Train accuracy: 0.856000, val accuracy: 0.740000\n",
      "Loss: 1.108385, Train accuracy: 0.855556, val accuracy: 0.739000\n",
      "Loss: 0.946091, Train accuracy: 0.846111, val accuracy: 0.727000\n",
      "Loss: 0.710882, Train accuracy: 0.886667, val accuracy: 0.766000\n",
      "Loss: 0.801309, Train accuracy: 0.890000, val accuracy: 0.768000\n",
      "Loss: 0.915650, Train accuracy: 0.850111, val accuracy: 0.744000\n",
      "Loss: 0.804373, Train accuracy: 0.872889, val accuracy: 0.760000\n",
      "Loss: 0.997378, Train accuracy: 0.849444, val accuracy: 0.732000\n",
      "Loss: 1.120789, Train accuracy: 0.853556, val accuracy: 0.743000\n",
      "Loss: 1.023480, Train accuracy: 0.845778, val accuracy: 0.725000\n",
      "Loss: 0.664381, Train accuracy: 0.866667, val accuracy: 0.727000\n",
      "Loss: 0.786873, Train accuracy: 0.840333, val accuracy: 0.744000\n",
      "Loss: 0.758706, Train accuracy: 0.888222, val accuracy: 0.762000\n",
      "Loss: 0.703938, Train accuracy: 0.845222, val accuracy: 0.733000\n",
      "Loss: 0.772100, Train accuracy: 0.876556, val accuracy: 0.752000\n",
      "Loss: 0.932105, Train accuracy: 0.886778, val accuracy: 0.763000\n",
      "Loss: 0.833698, Train accuracy: 0.871778, val accuracy: 0.748000\n",
      "Loss: 1.029838, Train accuracy: 0.869000, val accuracy: 0.748000\n",
      "Loss: 1.521643, Train accuracy: 0.801333, val accuracy: 0.695000\n",
      "Loss: 0.804107, Train accuracy: 0.865111, val accuracy: 0.755000\n",
      "Loss: 0.812239, Train accuracy: 0.869000, val accuracy: 0.750000\n",
      "Loss: 0.988673, Train accuracy: 0.864000, val accuracy: 0.744000\n",
      "Loss: 1.269977, Train accuracy: 0.877111, val accuracy: 0.753000\n",
      "Loss: 0.930569, Train accuracy: 0.868222, val accuracy: 0.739000\n",
      "Loss: 0.587730, Train accuracy: 0.868556, val accuracy: 0.743000\n",
      "Loss: 1.147014, Train accuracy: 0.889333, val accuracy: 0.758000\n",
      "Loss: 1.129413, Train accuracy: 0.826778, val accuracy: 0.711000\n",
      "Loss: 0.839725, Train accuracy: 0.882556, val accuracy: 0.772000\n",
      "Loss: 0.782381, Train accuracy: 0.866444, val accuracy: 0.743000\n",
      "Loss: 0.755117, Train accuracy: 0.833778, val accuracy: 0.736000\n",
      "Loss: 0.968430, Train accuracy: 0.864444, val accuracy: 0.747000\n",
      "Loss: 0.650016, Train accuracy: 0.870444, val accuracy: 0.763000\n",
      "Loss: 1.186662, Train accuracy: 0.867444, val accuracy: 0.742000\n",
      "Loss: 0.670659, Train accuracy: 0.882000, val accuracy: 0.760000\n",
      "Loss: 0.746760, Train accuracy: 0.880222, val accuracy: 0.767000\n",
      "Loss: 0.667612, Train accuracy: 0.864667, val accuracy: 0.745000\n",
      "Loss: 0.924919, Train accuracy: 0.873222, val accuracy: 0.758000\n",
      "Loss: 1.133005, Train accuracy: 0.889889, val accuracy: 0.771000\n",
      "Loss: 1.100393, Train accuracy: 0.889333, val accuracy: 0.769000\n",
      "Loss: 0.879019, Train accuracy: 0.873444, val accuracy: 0.763000\n",
      "Loss: 1.018106, Train accuracy: 0.853444, val accuracy: 0.739000\n",
      "Loss: 0.917493, Train accuracy: 0.889889, val accuracy: 0.762000\n",
      "Loss: 1.078770, Train accuracy: 0.870333, val accuracy: 0.752000\n",
      "Loss: 0.725244, Train accuracy: 0.862556, val accuracy: 0.736000\n",
      "Loss: 0.717319, Train accuracy: 0.881444, val accuracy: 0.757000\n",
      "Loss: 0.993621, Train accuracy: 0.884222, val accuracy: 0.754000\n",
      "Loss: 0.971512, Train accuracy: 0.895889, val accuracy: 0.771000\n"
     ]
    },
    {
     "name": "stdout",
     "output_type": "stream",
     "text": [
      "Loss: 0.719752, Train accuracy: 0.869000, val accuracy: 0.753000\n",
      "Loss: 0.822105, Train accuracy: 0.886778, val accuracy: 0.756000\n",
      "Loss: 1.058151, Train accuracy: 0.869000, val accuracy: 0.743000\n",
      "Loss: 0.885744, Train accuracy: 0.873000, val accuracy: 0.752000\n",
      "Loss: 0.806652, Train accuracy: 0.897000, val accuracy: 0.771000\n",
      "Loss: 0.852455, Train accuracy: 0.890333, val accuracy: 0.761000\n",
      "Loss: 0.953309, Train accuracy: 0.889333, val accuracy: 0.753000\n",
      "Loss: 0.776476, Train accuracy: 0.900556, val accuracy: 0.774000\n",
      "Loss: 1.076596, Train accuracy: 0.878333, val accuracy: 0.758000\n",
      "Loss: 0.754979, Train accuracy: 0.875667, val accuracy: 0.759000\n",
      "Loss: 0.878298, Train accuracy: 0.884222, val accuracy: 0.758000\n",
      "Loss: 0.851153, Train accuracy: 0.861889, val accuracy: 0.741000\n",
      "Loss: 0.782337, Train accuracy: 0.895667, val accuracy: 0.765000\n",
      "Loss: 0.767521, Train accuracy: 0.873889, val accuracy: 0.740000\n",
      "Loss: 0.813285, Train accuracy: 0.895444, val accuracy: 0.774000\n",
      "Loss: 0.916754, Train accuracy: 0.886444, val accuracy: 0.769000\n",
      "Loss: 0.802128, Train accuracy: 0.891889, val accuracy: 0.769000\n",
      "Loss: 1.131671, Train accuracy: 0.870111, val accuracy: 0.756000\n",
      "Loss: 0.810779, Train accuracy: 0.855111, val accuracy: 0.742000\n",
      "Loss: 0.946347, Train accuracy: 0.881889, val accuracy: 0.754000\n",
      "Loss: 1.345128, Train accuracy: 0.837111, val accuracy: 0.714000\n",
      "Loss: 1.125274, Train accuracy: 0.860667, val accuracy: 0.739000\n",
      "Loss: 0.637042, Train accuracy: 0.831444, val accuracy: 0.720000\n",
      "Loss: 1.061389, Train accuracy: 0.883778, val accuracy: 0.763000\n",
      "Loss: 0.862149, Train accuracy: 0.891889, val accuracy: 0.765000\n",
      "Loss: 0.977923, Train accuracy: 0.881000, val accuracy: 0.748000\n",
      "Loss: 1.108612, Train accuracy: 0.886000, val accuracy: 0.763000\n",
      "Loss: 1.287632, Train accuracy: 0.881778, val accuracy: 0.757000\n",
      "Loss: 0.954940, Train accuracy: 0.900667, val accuracy: 0.776000\n",
      "Loss: 0.911145, Train accuracy: 0.895111, val accuracy: 0.772000\n",
      "Loss: 0.692062, Train accuracy: 0.900111, val accuracy: 0.752000\n",
      "Loss: 0.697763, Train accuracy: 0.860556, val accuracy: 0.743000\n",
      "Loss: 0.894118, Train accuracy: 0.875889, val accuracy: 0.764000\n",
      "Loss: 1.296993, Train accuracy: 0.886444, val accuracy: 0.764000\n",
      "Loss: 0.979428, Train accuracy: 0.880222, val accuracy: 0.760000\n",
      "Loss: 0.687271, Train accuracy: 0.873556, val accuracy: 0.753000\n",
      "Loss: 0.742579, Train accuracy: 0.874667, val accuracy: 0.756000\n",
      "Loss: 0.685210, Train accuracy: 0.839111, val accuracy: 0.733000\n",
      "Loss: 0.932970, Train accuracy: 0.864889, val accuracy: 0.741000\n",
      "Loss: 0.847705, Train accuracy: 0.880333, val accuracy: 0.744000\n",
      "Loss: 0.807099, Train accuracy: 0.895222, val accuracy: 0.768000\n",
      "Loss: 0.973953, Train accuracy: 0.898444, val accuracy: 0.756000\n",
      "Loss: 0.695410, Train accuracy: 0.860111, val accuracy: 0.741000\n",
      "Loss: 1.068728, Train accuracy: 0.854333, val accuracy: 0.737000\n",
      "Loss: 0.886817, Train accuracy: 0.898556, val accuracy: 0.766000\n",
      "Loss: 1.115217, Train accuracy: 0.880222, val accuracy: 0.752000\n",
      "Loss: 0.738765, Train accuracy: 0.863000, val accuracy: 0.737000\n",
      "Loss: 1.125059, Train accuracy: 0.862000, val accuracy: 0.755000\n",
      "Loss: 0.662492, Train accuracy: 0.873000, val accuracy: 0.754000\n",
      "Loss: 0.851457, Train accuracy: 0.849222, val accuracy: 0.719000\n",
      "Loss: 0.836069, Train accuracy: 0.890667, val accuracy: 0.774000\n",
      "Loss: 1.174287, Train accuracy: 0.879889, val accuracy: 0.758000\n",
      "Loss: 1.018299, Train accuracy: 0.882667, val accuracy: 0.752000\n",
      "Loss: 0.640865, Train accuracy: 0.897222, val accuracy: 0.781000\n",
      "Loss: 0.941924, Train accuracy: 0.875667, val accuracy: 0.765000\n",
      "Loss: 1.111325, Train accuracy: 0.870556, val accuracy: 0.767000\n",
      "Loss: 0.820584, Train accuracy: 0.900667, val accuracy: 0.780000\n",
      "Loss: 1.209647, Train accuracy: 0.846667, val accuracy: 0.739000\n",
      "Loss: 0.627563, Train accuracy: 0.888222, val accuracy: 0.760000\n",
      "Loss: 0.840564, Train accuracy: 0.902889, val accuracy: 0.774000\n",
      "Loss: 0.724811, Train accuracy: 0.895778, val accuracy: 0.764000\n",
      "Loss: 0.955634, Train accuracy: 0.890333, val accuracy: 0.766000\n",
      "Loss: 1.290516, Train accuracy: 0.874444, val accuracy: 0.760000\n",
      "Loss: 0.571761, Train accuracy: 0.870778, val accuracy: 0.744000\n",
      "Loss: 0.832734, Train accuracy: 0.896889, val accuracy: 0.769000\n",
      "Loss: 0.807822, Train accuracy: 0.883667, val accuracy: 0.754000\n",
      "Loss: 0.876248, Train accuracy: 0.905000, val accuracy: 0.767000\n",
      "Loss: 0.763171, Train accuracy: 0.863000, val accuracy: 0.747000\n",
      "Loss: 0.833523, Train accuracy: 0.865778, val accuracy: 0.750000\n",
      "Loss: 0.848795, Train accuracy: 0.893556, val accuracy: 0.752000\n",
      "Loss: 1.111950, Train accuracy: 0.883556, val accuracy: 0.765000\n",
      "Loss: 1.145745, Train accuracy: 0.890444, val accuracy: 0.761000\n",
      "Loss: 0.922226, Train accuracy: 0.883667, val accuracy: 0.762000\n"
     ]
    }
   ],
   "source": [
    "# Let's train the best one-hidden-layer network we can\n",
    "\n",
    "learning_rates = 1e-2\n",
    "reg_strength = 1e-3\n",
    "learning_rate_decay = 0.999\n",
    "hidden_layer_size = 128\n",
    "num_epochs = 200\n",
    "batch_size = 64\n",
    "\n",
    "best_classifier = None\n",
    "best_val_accuracy = None\n",
    "\n",
    "loss_history = []\n",
    "train_history = []\n",
    "val_history = []\n",
    "\n",
    "# TODO find the best hyperparameters to train the network\n",
    "# Don't hesitate to add new values to the arrays above, perform experiments, use any tricks you want\n",
    "# You should expect to get to at least 40% of valudation accuracy\n",
    "# Save loss/train/history of the best classifier to the variables above\n",
    "dataset = Dataset(train_X, train_y, val_X, val_y)\n",
    "model = TwoLayerNet(n_input=train_X.shape[1], n_output=10, hidden_layer_size=hidden_layer_size, reg=reg_strength)\n",
    "\n",
    "trainer = Trainer(model, dataset, MomentumSGD(), num_epochs=num_epochs, learning_rate=learning_rates, learning_rate_decay=learning_rate_decay)\n",
    "loss_history, train_history, val_history = trainer.fit()"
   ]
  },
  {
   "cell_type": "code",
   "execution_count": 60,
   "metadata": {},
   "outputs": [
    {
     "name": "stdout",
     "output_type": "stream",
     "text": [
      "best validation accuracy achieved: 0.762000\n"
     ]
    }
   ],
   "source": [
    "best_val_accuracy = val_history[-1]\n",
    "print('best validation accuracy achieved: %f' % best_val_accuracy)"
   ]
  },
  {
   "cell_type": "code",
   "execution_count": 61,
   "metadata": {},
   "outputs": [
    {
     "data": {
      "text/plain": [
       "[<matplotlib.lines.Line2D at 0x2d0c86489a0>]"
      ]
     },
     "execution_count": 61,
     "metadata": {},
     "output_type": "execute_result"
    },
    {
     "data": {
      "image/png": "[encoded data removed]",
      "text/plain": [
       "<Figure size 1500x700 with 2 Axes>"
      ]
     },
     "metadata": {},
     "output_type": "display_data"
    }
   ],
   "source": [
    "plt.figure(figsize=(15, 7))\n",
    "plt.subplot(211)\n",
    "plt.title(\"Loss\")\n",
    "plt.plot(loss_history)\n",
    "plt.subplot(212)\n",
    "plt.title(\"Train/validation accuracy\")\n",
    "plt.plot(train_history)\n",
    "plt.plot(val_history)"
   ]
  },
  {
   "cell_type": "markdown",
   "metadata": {},
   "source": [
    "# Как обычно, посмотрим, как наша лучшая модель работает на тестовых данных"
   ]
  },
  {
   "cell_type": "code",
   "execution_count": 62,
   "metadata": {},
   "outputs": [
    {
     "name": "stdout",
     "output_type": "stream",
     "text": [
      "Neural net test set accuracy: 0.731000\n"
     ]
    }
   ],
   "source": [
    "best_classifier = model\n",
    "test_pred = best_classifier.predict(test_X)\n",
    "test_accuracy = multiclass_accuracy(test_pred, test_y)\n",
    "print('Neural net test set accuracy: %f' % (test_accuracy, ))"
   ]
  },
  {
   "cell_type": "code",
   "execution_count": null,
   "metadata": {},
   "outputs": [],
   "source": []
  }
 ],
 "metadata": {
  "kernelspec": {
   "display_name": "Python 3 (ipykernel)",
   "language": "python",
   "name": "python3"
  },
  "language_info": {
   "codemirror_mode": {
    "name": "ipython",
    "version": 3
   },
   "file_extension": ".py",
   "mimetype": "text/x-python",
   "name": "python",
   "nbconvert_exporter": "python",
   "pygments_lexer": "ipython3",
   "version": "3.10.4"
  }
 },
 "nbformat": 4,
 "nbformat_minor": 2
}
