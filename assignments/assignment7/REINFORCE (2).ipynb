{
  "cells": [
    {
      "cell_type": "markdown",
      "metadata": {
        "id": "AbwmoJusmueU"
      },
      "source": [
        "# Reinforcement Learning"
      ]
    },
    {
      "cell_type": "markdown",
      "metadata": {
        "id": "7xcuGNp-mueX"
      },
      "source": [
        "В этом задании постараемся разобраться в проблеме обучения с подкреплением, реализуем алгоритм REINFORCE и научим агента с помощью этого алгоритма играть в игру Cartpole."
      ]
    },
    {
      "cell_type": "markdown",
      "metadata": {
        "id": "4HoHMD_GmueZ"
      },
      "source": [
        "Установим и импортируем необходимые библиотеки, а также вспомогательные функции для визуализации игры агента."
      ]
    },
    {
      "cell_type": "code",
      "execution_count": 1,
      "metadata": {
        "id": "kHKfskxa7kaI"
      },
      "outputs": [],
      "source": [
        "!pip install gym pandas torch matplotlib pyvirtualdisplay > /dev/null 2>&1\n",
        "!apt-get install -y xvfb python-opengl ffmpeg x11-utils > /dev/null 2>&1"
      ]
    },
    {
      "cell_type": "code",
      "source": [
        "!pip install gym==0.15.3"
      ],
      "metadata": {
        "id": "46TADnvVCzHa",
        "colab": {
          "base_uri": "https://localhost:8080/"
        },
        "outputId": "254484cb-01d1-48f5-9eba-611038a196f3"
      },
      "execution_count": 2,
      "outputs": [
        {
          "output_type": "stream",
          "name": "stdout",
          "text": [
            "Looking in indexes: https://pypi.org/simple, https://us-python.pkg.dev/colab-wheels/public/simple/\n",
            "Collecting gym==0.15.3\n",
            "  Downloading gym-0.15.3.tar.gz (1.6 MB)\n",
            "\u001b[2K     \u001b[90m━━━━━━━━━━━━━━━━━━━━━━━━━━━━━━━━━━━━━━━━\u001b[0m \u001b[32m1.6/1.6 MB\u001b[0m \u001b[31m20.2 MB/s\u001b[0m eta \u001b[36m0:00:00\u001b[0m\n",
            "\u001b[?25h  Preparing metadata (setup.py) ... \u001b[?25l\u001b[?25hdone\n",
            "Requirement already satisfied: scipy in /usr/local/lib/python3.10/dist-packages (from gym==0.15.3) (1.10.1)\n",
            "Requirement already satisfied: numpy>=1.10.4 in /usr/local/lib/python3.10/dist-packages (from gym==0.15.3) (1.22.4)\n",
            "Requirement already satisfied: six in /usr/local/lib/python3.10/dist-packages (from gym==0.15.3) (1.16.0)\n",
            "Collecting pyglet<=1.3.2,>=1.2.0 (from gym==0.15.3)\n",
            "  Downloading pyglet-1.3.2-py2.py3-none-any.whl (1.0 MB)\n",
            "\u001b[2K     \u001b[90m━━━━━━━━━━━━━━━━━━━━━━━━━━━━━━━━━━━━━━━━\u001b[0m \u001b[32m1.0/1.0 MB\u001b[0m \u001b[31m49.6 MB/s\u001b[0m eta \u001b[36m0:00:00\u001b[0m\n",
            "\u001b[?25hCollecting cloudpickle~=1.2.0 (from gym==0.15.3)\n",
            "  Downloading cloudpickle-1.2.2-py2.py3-none-any.whl (25 kB)\n",
            "Requirement already satisfied: future in /usr/local/lib/python3.10/dist-packages (from pyglet<=1.3.2,>=1.2.0->gym==0.15.3) (0.18.3)\n",
            "Building wheels for collected packages: gym\n",
            "  Building wheel for gym (setup.py) ... \u001b[?25l\u001b[?25hdone\n",
            "  Created wheel for gym: filename=gym-0.15.3-py3-none-any.whl size=1644944 sha256=e7b94b1abba5441d4ff13f039722c5881fa83c13b10ef291fbec5cd0eafebec2\n",
            "  Stored in directory: /root/.cache/pip/wheels/dc/4c/1c/25048a3f2e8540c60bbba0c25d8400f959205db1048431873a\n",
            "Successfully built gym\n",
            "Installing collected packages: cloudpickle, pyglet, gym\n",
            "  Attempting uninstall: cloudpickle\n",
            "    Found existing installation: cloudpickle 2.2.1\n",
            "    Uninstalling cloudpickle-2.2.1:\n",
            "      Successfully uninstalled cloudpickle-2.2.1\n",
            "  Attempting uninstall: gym\n",
            "    Found existing installation: gym 0.25.2\n",
            "    Uninstalling gym-0.25.2:\n",
            "      Successfully uninstalled gym-0.25.2\n",
            "\u001b[31mERROR: pip's dependency resolver does not currently take into account all the packages that are installed. This behaviour is the source of the following dependency conflicts.\n",
            "distributed 2022.12.1 requires cloudpickle>=1.5.0, but you have cloudpickle 1.2.2 which is incompatible.\n",
            "tensorflow-probability 0.20.1 requires cloudpickle>=1.3, but you have cloudpickle 1.2.2 which is incompatible.\u001b[0m\u001b[31m\n",
            "\u001b[0mSuccessfully installed cloudpickle-1.2.2 gym-0.15.3 pyglet-1.3.2\n"
          ]
        }
      ]
    },
    {
      "cell_type": "code",
      "execution_count": 3,
      "metadata": {
        "id": "WiX0JVM3z0Ru"
      },
      "outputs": [],
      "source": [
        "from IPython.display import clear_output, HTML\n",
        "from IPython import display as ipythondisplay\n",
        "import matplotlib.pyplot as plt\n",
        "%matplotlib inline"
      ]
    },
    {
      "cell_type": "code",
      "execution_count": 4,
      "metadata": {
        "id": "IsjSHknYl1rj"
      },
      "outputs": [],
      "source": [
        "import numpy as np\n",
        "import glob\n",
        "import time\n",
        "import io\n",
        "import base64\n",
        "import gym\n",
        "from gym.wrappers import Monitor\n",
        "# from gym.wrappers.record_video import RecordVideo\n",
        "import torch\n",
        "import collections\n",
        "import pandas as pd\n",
        "from torch import nn\n",
        "from torch.optim import Adam\n",
        "from torch.distributions import Categorical"
      ]
    },
    {
      "cell_type": "code",
      "execution_count": 5,
      "metadata": {
        "id": "b5KfVGq1n_8s",
        "colab": {
          "base_uri": "https://localhost:8080/"
        },
        "outputId": "2162374f-0f28-483c-cb54-d2db29abd6ca"
      },
      "outputs": [
        {
          "output_type": "execute_result",
          "data": {
            "text/plain": [
              "<pyvirtualdisplay.display.Display at 0x7f6accb70820>"
            ]
          },
          "metadata": {},
          "execution_count": 5
        }
      ],
      "source": [
        "from pyvirtualdisplay import Display\n",
        "display = Display(visible=0, size=(1400, 900))\n",
        "display.start()"
      ]
    },
    {
      "cell_type": "code",
      "execution_count": 6,
      "metadata": {
        "id": "4xGh4QxDnlFw"
      },
      "outputs": [],
      "source": [
        "\"\"\"\n",
        "Utility functions to enable video recording of gym environment and displaying it\n",
        "To enable video, just do \"env = wrap_env(env)\"\"\n",
        "\"\"\"\n",
        "\n",
        "def show_video():\n",
        "    mp4list = glob.glob('video/*.mp4')\n",
        "    if len(mp4list) > 0:\n",
        "        mp4 = mp4list[0]\n",
        "        video = io.open(mp4, 'r+b').read()\n",
        "        encoded = base64.b64encode(video)\n",
        "        ipythondisplay.display(HTML(data='''<video alt=\"test\" autoplay \n",
        "                loop controls style=\"height: 400px;\">\n",
        "                <source src=\"data:video/mp4;base64,{0}\" type=\"video/mp4\" />\n",
        "             </video>'''.format(encoded.decode('ascii'))))\n",
        "    else: \n",
        "        print(\"Could not find video\")\n",
        "    \n",
        "\n",
        "def wrap_env(env):\n",
        "    env = Monitor(env, './video', force=True)\n",
        "    return env"
      ]
    },
    {
      "cell_type": "code",
      "execution_count": 7,
      "metadata": {
        "id": "Dfi89tXjmuet"
      },
      "outputs": [],
      "source": [
        "device = torch.device('cuda:0' if torch.cuda.is_available() else 'cpu') #позволяет перенести тензор на GPU, если он доступен в системе"
      ]
    },
    {
      "cell_type": "markdown",
      "metadata": {
        "id": "AhDVTPxymuez"
      },
      "source": [
        "## OpenAI Gym"
      ]
    },
    {
      "cell_type": "markdown",
      "metadata": {
        "id": "VZb-IIq4muez"
      },
      "source": [
        "[OpenAI Gym](https://gym.openai.com) это набор сред для разработки и сравнения алгоритмов обучения с подкреплением."
      ]
    },
    {
      "cell_type": "markdown",
      "metadata": {
        "id": "fFkuRjxNmue2"
      },
      "source": [
        "OpenAI Gym предоставляет простой и универсальный API ко многим средам с разными свойствами, как простым так и сложным:\n",
        "* Классические задачи управления и игрушечные примеры, которые можно найти в учебниках и на которых демонстрируется работа алгоритмов обучения с подкреплением (одна из этих сред используется в этом задании)\n",
        "* Игры Atari (оказали огромное влияние на достижения в обучении с подкреплением в последние годы)\n",
        "* 2D и 3D среды для контроля роботов в симуляции (используют проприетарный движок [Mojuco](http://www.mujoco.org))"
      ]
    },
    {
      "cell_type": "markdown",
      "metadata": {
        "id": "NIu0Uhj7mue5"
      },
      "source": [
        "Рассмотрим, как устроена среда [CartPole-v0](https://gym.openai.com/envs/CartPole-v0), с которой мы будем работать."
      ]
    },
    {
      "cell_type": "markdown",
      "metadata": {
        "id": "KYHUeiMXmue6"
      },
      "source": [
        "Для этого создадим среду и выведем ее описание."
      ]
    },
    {
      "cell_type": "code",
      "execution_count": 8,
      "metadata": {
        "id": "b9BRqxoDmue7",
        "colab": {
          "base_uri": "https://localhost:8080/"
        },
        "outputId": "0d8c5524-9cbd-4ef4-dab2-58c54c515278"
      },
      "outputs": [
        {
          "output_type": "stream",
          "name": "stdout",
          "text": [
            "\n",
            "    Description:\n",
            "        A pole is attached by an un-actuated joint to a cart, which moves along a frictionless track. The pendulum starts upright, and the goal is to prevent it from falling over by increasing and reducing the cart's velocity.\n",
            "\n",
            "    Source:\n",
            "        This environment corresponds to the version of the cart-pole problem described by Barto, Sutton, and Anderson\n",
            "\n",
            "    Observation: \n",
            "        Type: Box(4)\n",
            "        Num\tObservation                 Min         Max\n",
            "        0\tCart Position             -4.8            4.8\n",
            "        1\tCart Velocity             -Inf            Inf\n",
            "        2\tPole Angle                 -24 deg        24 deg\n",
            "        3\tPole Velocity At Tip      -Inf            Inf\n",
            "        \n",
            "    Actions:\n",
            "        Type: Discrete(2)\n",
            "        Num\tAction\n",
            "        0\tPush cart to the left\n",
            "        1\tPush cart to the right\n",
            "        \n",
            "        Note: The amount the velocity that is reduced or increased is not fixed; it depends on the angle the pole is pointing. This is because the center of gravity of the pole increases the amount of energy needed to move the cart underneath it\n",
            "\n",
            "    Reward:\n",
            "        Reward is 1 for every step taken, including the termination step\n",
            "\n",
            "    Starting State:\n",
            "        All observations are assigned a uniform random value in [-0.05..0.05]\n",
            "\n",
            "    Episode Termination:\n",
            "        Pole Angle is more than 12 degrees\n",
            "        Cart Position is more than 2.4 (center of the cart reaches the edge of the display)\n",
            "        Episode length is greater than 200\n",
            "        Solved Requirements\n",
            "        Considered solved when the average reward is greater than or equal to 195.0 over 100 consecutive trials.\n",
            "    \n"
          ]
        }
      ],
      "source": [
        "env = gym.make(\"CartPole-v0\")\n",
        "print(env.env.__doc__)"
      ]
    },
    {
      "cell_type": "markdown",
      "metadata": {
        "id": "tovAoT5dmufD"
      },
      "source": [
        "Из этого описания мы можем узнать, как устроены пространства состояний и действий в этой среды, какие награды получаются на каждом шаге, а также, что нам необходимо сделать, чтобы научиться \"решать\" эту среду, а именно достич средней награды больше 195.0 или больше за 100 последовательных запусков агента в этой среде. Именно такого агента мы и попробуем создать и обучить."
      ]
    },
    {
      "cell_type": "markdown",
      "metadata": {
        "id": "hZ98fYaxmufF"
      },
      "source": [
        "Но для начала напишем вспомогательную функцию, которая будет принимать на вход среду, агента и число эпизодов, и возвращать среднюю награду за 100 эпизодов. С помощью этой функции мы сможем протестировать, насколько хорошо обучился наш агент, а также визуализировать его поведение в среде."
      ]
    },
    {
      "cell_type": "code",
      "execution_count": 9,
      "metadata": {
        "id": "0jXEOwd7njUm"
      },
      "outputs": [],
      "source": [
        "def test_agent(env, agent=None, n_episodes=100):\n",
        "    \"\"\"Runs agent for n_episodes in environment and calclates mean reward.\n",
        "    \n",
        "    Args:\n",
        "        env: The environment for agent to play in\n",
        "        agent: The agent to play with. Defaults to None - \n",
        "            in this case random agent is used.\n",
        "        n_episodes: Number of episodes to play. Defaults to 100.\n",
        "\n",
        "    Returns:\n",
        "        Mean reward for 100 episodes.\n",
        "    \"\"\"\n",
        "    total_reward = []\n",
        "    for episode in range(n_episodes):\n",
        "        episode_reward = 0\n",
        "        observation = env.reset()\n",
        "        t = 0\n",
        "        while True:\n",
        "            if agent:\n",
        "                with torch.no_grad():\n",
        "                    probs = agent(torch.FloatTensor(observation).to(device))\n",
        "                    dist = Categorical(probs)\n",
        "                    action = dist.sample().item()\n",
        "            else:\n",
        "                action = env.action_space.sample()\n",
        "            observation, reward, done, info = env.step(action)\n",
        "            episode_reward += reward\n",
        "            t += 1\n",
        "            if done:\n",
        "                print(\"Episode {} finished after {} timesteps\".format(episode+1, t+1))\n",
        "                break\n",
        "        total_reward.append(episode_reward)\n",
        "        env.close()\n",
        "                   \n",
        "    return np.mean(total_reward)"
      ]
    },
    {
      "cell_type": "markdown",
      "metadata": {
        "id": "TqnYqFVSmufL"
      },
      "source": [
        "Протестируем и визуализируем случайного агента (параметр ```agent=False```)."
      ]
    },
    {
      "cell_type": "code",
      "execution_count": 10,
      "metadata": {
        "id": "yqVokBDFmufM",
        "scrolled": true,
        "colab": {
          "base_uri": "https://localhost:8080/"
        },
        "outputId": "574b602f-594a-4c0c-919d-7e1efacfce78"
      },
      "outputs": [
        {
          "output_type": "stream",
          "name": "stdout",
          "text": [
            "Episode 1 finished after 21 timesteps\n",
            "Episode 2 finished after 14 timesteps\n",
            "Episode 3 finished after 16 timesteps\n",
            "Episode 4 finished after 52 timesteps\n",
            "Episode 5 finished after 30 timesteps\n",
            "Episode 6 finished after 12 timesteps\n",
            "Episode 7 finished after 19 timesteps\n",
            "Episode 8 finished after 34 timesteps\n",
            "Episode 9 finished after 12 timesteps\n",
            "Episode 10 finished after 23 timesteps\n",
            "Episode 11 finished after 28 timesteps\n",
            "Episode 12 finished after 18 timesteps\n",
            "Episode 13 finished after 36 timesteps\n",
            "Episode 14 finished after 13 timesteps\n",
            "Episode 15 finished after 43 timesteps\n",
            "Episode 16 finished after 13 timesteps\n",
            "Episode 17 finished after 22 timesteps\n",
            "Episode 18 finished after 14 timesteps\n",
            "Episode 19 finished after 15 timesteps\n",
            "Episode 20 finished after 17 timesteps\n",
            "Episode 21 finished after 15 timesteps\n",
            "Episode 22 finished after 31 timesteps\n",
            "Episode 23 finished after 15 timesteps\n",
            "Episode 24 finished after 34 timesteps\n",
            "Episode 25 finished after 16 timesteps\n",
            "Episode 26 finished after 29 timesteps\n",
            "Episode 27 finished after 26 timesteps\n",
            "Episode 28 finished after 34 timesteps\n",
            "Episode 29 finished after 27 timesteps\n",
            "Episode 30 finished after 22 timesteps\n",
            "Episode 31 finished after 25 timesteps\n",
            "Episode 32 finished after 19 timesteps\n",
            "Episode 33 finished after 19 timesteps\n",
            "Episode 34 finished after 16 timesteps\n",
            "Episode 35 finished after 22 timesteps\n",
            "Episode 36 finished after 26 timesteps\n",
            "Episode 37 finished after 33 timesteps\n",
            "Episode 38 finished after 12 timesteps\n",
            "Episode 39 finished after 31 timesteps\n",
            "Episode 40 finished after 19 timesteps\n",
            "Episode 41 finished after 22 timesteps\n",
            "Episode 42 finished after 21 timesteps\n",
            "Episode 43 finished after 16 timesteps\n",
            "Episode 44 finished after 10 timesteps\n",
            "Episode 45 finished after 16 timesteps\n",
            "Episode 46 finished after 21 timesteps\n",
            "Episode 47 finished after 25 timesteps\n",
            "Episode 48 finished after 35 timesteps\n",
            "Episode 49 finished after 15 timesteps\n",
            "Episode 50 finished after 21 timesteps\n",
            "Episode 51 finished after 16 timesteps\n",
            "Episode 52 finished after 33 timesteps\n",
            "Episode 53 finished after 12 timesteps\n",
            "Episode 54 finished after 20 timesteps\n",
            "Episode 55 finished after 17 timesteps\n",
            "Episode 56 finished after 32 timesteps\n",
            "Episode 57 finished after 33 timesteps\n",
            "Episode 58 finished after 25 timesteps\n",
            "Episode 59 finished after 45 timesteps\n",
            "Episode 60 finished after 18 timesteps\n",
            "Episode 61 finished after 27 timesteps\n",
            "Episode 62 finished after 26 timesteps\n",
            "Episode 63 finished after 17 timesteps\n",
            "Episode 64 finished after 32 timesteps\n",
            "Episode 65 finished after 21 timesteps\n",
            "Episode 66 finished after 28 timesteps\n",
            "Episode 67 finished after 12 timesteps\n",
            "Episode 68 finished after 14 timesteps\n",
            "Episode 69 finished after 42 timesteps\n",
            "Episode 70 finished after 39 timesteps\n",
            "Episode 71 finished after 17 timesteps\n",
            "Episode 72 finished after 27 timesteps\n",
            "Episode 73 finished after 29 timesteps\n",
            "Episode 74 finished after 19 timesteps\n",
            "Episode 75 finished after 27 timesteps\n",
            "Episode 76 finished after 18 timesteps\n",
            "Episode 77 finished after 12 timesteps\n",
            "Episode 78 finished after 20 timesteps\n",
            "Episode 79 finished after 21 timesteps\n",
            "Episode 80 finished after 49 timesteps\n",
            "Episode 81 finished after 14 timesteps\n",
            "Episode 82 finished after 15 timesteps\n",
            "Episode 83 finished after 25 timesteps\n",
            "Episode 84 finished after 14 timesteps\n",
            "Episode 85 finished after 14 timesteps\n",
            "Episode 86 finished after 20 timesteps\n",
            "Episode 87 finished after 54 timesteps\n",
            "Episode 88 finished after 36 timesteps\n",
            "Episode 89 finished after 28 timesteps\n",
            "Episode 90 finished after 26 timesteps\n",
            "Episode 91 finished after 16 timesteps\n",
            "Episode 92 finished after 15 timesteps\n",
            "Episode 93 finished after 19 timesteps\n",
            "Episode 94 finished after 19 timesteps\n",
            "Episode 95 finished after 16 timesteps\n",
            "Episode 96 finished after 40 timesteps\n",
            "Episode 97 finished after 21 timesteps\n",
            "Episode 98 finished after 14 timesteps\n",
            "Episode 99 finished after 23 timesteps\n",
            "Episode 100 finished after 27 timesteps\n"
          ]
        },
        {
          "output_type": "execute_result",
          "data": {
            "text/plain": [
              "22.29"
            ]
          },
          "metadata": {},
          "execution_count": 10
        }
      ],
      "source": [
        "test_agent(env, agent=False, n_episodes=100)"
      ]
    },
    {
      "cell_type": "markdown",
      "metadata": {
        "id": "8bzNtyllmufS"
      },
      "source": [
        "Как видно, наш случайный агент выступает не очень хорошо и в среднем может удержать шест всего около 20 шагов."
      ]
    },
    {
      "cell_type": "markdown",
      "metadata": {
        "id": "BNcZLQpzmufU"
      },
      "source": [
        "Напишем функцию для визуализации агента и посмотрим на случайного агента."
      ]
    },
    {
      "cell_type": "code",
      "execution_count": 11,
      "metadata": {
        "id": "GgThoRPgoMcs"
      },
      "outputs": [],
      "source": [
        "def agent_viz(env=\"CartPole-v0\", agent=None):\n",
        "    \"\"\"Visualizes agent play in the given environment.\n",
        "    \n",
        "    Args:\n",
        "        env: The environment for agent to play in. Defaults to CartPole-v0.\n",
        "        agent: The agent to play with. Defaults to None - \n",
        "            in this case random agent is used.\n",
        "\n",
        "    Returns:\n",
        "        Nothing is returned. Visualization is created and can be showed\n",
        "            with show_video() function.\n",
        "    \"\"\"\n",
        "    env = wrap_env(gym.make(env))\n",
        "    observation = env.reset()\n",
        "    while True:\n",
        "        env.render() \n",
        "        if agent:\n",
        "            with torch.no_grad():\n",
        "                probs = agent(torch.FloatTensor(observation).to(device))\n",
        "                dist = Categorical(probs)\n",
        "                action = dist.sample().item()\n",
        "        else:\n",
        "            action = env.action_space.sample()\n",
        "        observation, reward, done, info = env.step(action)\n",
        "        if done:\n",
        "            break\n",
        "            \n",
        "    env.close()"
      ]
    },
    {
      "cell_type": "code",
      "execution_count": 12,
      "metadata": {
        "id": "b5FLllE_pHSf",
        "colab": {
          "base_uri": "https://localhost:8080/",
          "height": 422
        },
        "outputId": "65ff9f1e-50c7-47e0-9cf4-1f6c4d90bd9f"
      },
      "outputs": [
        {
          "output_type": "display_data",
          "data": {
            "text/plain": [
              "<IPython.core.display.HTML object>"
            ],
            "text/html": [
              "<video alt=\"test\" autoplay \n",
              "                loop controls style=\"height: 400px;\">\n",
              "                <source src=\"data:video/mp4;base64,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\" type=\"video/mp4\" />\n",
              "             </video>"
            ]
          },
          "metadata": {}
        }
      ],
      "source": [
        "agent_viz()\n",
        "show_video()"
      ]
    },
    {
      "cell_type": "markdown",
      "metadata": {
        "id": "hpQF0xgJmufW"
      },
      "source": [
        "Попробуем применить обучение с подкреплением и алгоритм REINFORCE для того, чтобы в среднем за 100 эпиздов мы держали шест не менее 195 шагов."
      ]
    },
    {
      "cell_type": "markdown",
      "metadata": {
        "id": "M2SkO__WmufX"
      },
      "source": [
        "## REINFORCE"
      ]
    },
    {
      "cell_type": "markdown",
      "metadata": {
        "id": "QW95huRpmufY"
      },
      "source": [
        "Вспомним, что из себя представляет алгоритм REINFORCE (Sutton & Barto) <img src=\"//i.imgur.com/bnASTrY.png\" width=\"700\">"
      ]
    },
    {
      "cell_type": "markdown",
      "metadata": {
        "id": "CFD7oH9mmufZ"
      },
      "source": [
        "1. Инициализуем политику (в качестве политики мы будем использовать глубокую нейронную сеть).\n",
        "2. \"Играем\" в среде эпизод, используя нашу политику, или несколько (мы будем использовать последний вариант) и собираем данные о состояниях, действиях и полученных наградах. \n",
        "3. Для каждого состояния в собранных эпизодах вычисляем сумму дисконтированных наград, полученных из этого состояния, а также логорифм правдоподобия предпринятого действия в этом состоянии для нашей политики.\n",
        "4. Обновляем параметры нашей политики по формуле на схеме."
      ]
    },
    {
      "cell_type": "markdown",
      "metadata": {
        "id": "Zjhox1Rdmufa"
      },
      "source": [
        "### Политика"
      ]
    },
    {
      "cell_type": "markdown",
      "metadata": {
        "id": "v5KOdiJrmufb"
      },
      "source": [
        "Наша политика должна принимать на вход состояние среды, а на выходе выдавать распределение по действиям, которые мы можем осуществлять в среде.\n",
        "\n",
        "**Задание:** Создать класс нейронной сети со следующей архитектурой ```Linear -> ReLU -> Linear -> Softmax```. Параметрами инициализации должны служить размерности пространства состояний, пространства действий и размер скрытого слоя."
      ]
    },
    {
      "cell_type": "code",
      "execution_count": 13,
      "metadata": {
        "id": "BSbzinGQidFm"
      },
      "outputs": [],
      "source": [
        "class Policy(nn.Module):\n",
        "    \"\"\"Policy to be used by agent.\n",
        "\n",
        "    Attributes:\n",
        "        state_size: Dimention of the state space of the environment.\n",
        "        act_size: Dimention of the action space of the environment.\n",
        "        hidden_size: Dimention of the hidden state of the agent's policy.\n",
        "    \"\"\"\n",
        "    def __init__(self, state_size, act_size, hidden_size):\n",
        "        super().__init__()\n",
        "        \n",
        "        self.state_size = state_size\n",
        "        self.act_size = act_size\n",
        "        self.hidden_size = hidden_size\n",
        "        \n",
        "        self.fully_connected_1 = nn.Linear(state_size, hidden_size)\n",
        "        self.fully_connected_2 = nn.Linear(hidden_size, act_size)\n",
        "        self.ReLu = nn.ReLU(inplace=True)\n",
        "        self.softmax = nn.Softmax(dim=1)\n",
        "    \n",
        "    def forward(self, inputs):\n",
        "        inputs = inputs.reshape((-1,self.state_size))\n",
        "        output = self.fully_connected_1(inputs)\n",
        "        output = self.ReLu(output)\n",
        "        output = self.fully_connected_2(output)\n",
        "        return self.softmax(output).view(-1)"
      ]
    },
    {
      "cell_type": "markdown",
      "metadata": {
        "id": "E0bYNhJ_mufh"
      },
      "source": [
        "### Оценка правдоподобия и расчет суммы дисконтированных наград"
      ]
    },
    {
      "cell_type": "markdown",
      "metadata": {
        "id": "QMZIoW8pmufi"
      },
      "source": [
        "**Задание:** Напишем вспомогательная функцию, которая принимает на вход политику, батч траекторий и фактор дисконтирования, и должна вернуть следующие величины: \n",
        "* правдоподобие действия на каждом шаге на траектории посчитанные для всего батча;\n",
        "* дисконтированные суммы наград (reward-to-go) из каждого состояния среды на траектории посчитанные для всего батча;"
      ]
    },
    {
      "cell_type": "markdown",
      "metadata": {
        "id": "rcs_Xi-jmufl"
      },
      "source": [
        "**Hint**: Представим батч траекторий как ```list```, в котром также хранится ```list``` для каждой траектории, в котором каждый шаг хранится, как ```namedtuple```:\n",
        "```transition = collections.namedtuple(\"transition\", [\"state\", \"action\", \"reward\"])```"
      ]
    },
    {
      "cell_type": "code",
      "execution_count": 14,
      "metadata": {
        "id": "eGHfushNmufl"
      },
      "outputs": [],
      "source": [
        "def process_traj_batch(policy, batch, discount):\n",
        "    \"\"\"Computes log probabilities for each action \n",
        "        and rewards-to-go for each state in the batch of trajectories.\n",
        "    \n",
        "    Args:\n",
        "        policy: Policy of the agent.\n",
        "        batch (list of list of collections.namedtuple): Batch of trajectories.\n",
        "        discount (float): Discount factor for rewards-to-go calculation.\n",
        "\n",
        "    Returns:\n",
        "        log_probs (list of torch.FloatTensor): List of log probabilities for\n",
        "            each action in the batch of trajectories.\n",
        "        returns (list of rewards-to-go): List of rewards-to-go for \n",
        "            each state in the batch of trajectories.\n",
        "    \"\"\"\n",
        "    \n",
        "    returns = []\n",
        "    log_probs = []\n",
        "    \n",
        "    for trajectory in batch:\n",
        "        rewards = [0] * len(trajectory)\n",
        "        for i in range(len(trajectory)):           \n",
        "            probs_step = policy.forward(trajectory[i].state)\n",
        "            prob_action = probs_step[trajectory[i].action.item()]\n",
        "            log_probs.append(torch.log(prob_action))\n",
        "            for j in range(i, len(trajectory)):\n",
        "                rewards[i] += trajectory[j].reward*discount**(j-i)\n",
        "        returns.extend(rewards)\n",
        "    return log_probs, returns"
      ]
    },
    {
      "cell_type": "markdown",
      "metadata": {
        "id": "mp6xKRWXmufp"
      },
      "source": [
        "Ваша реализация функции должна проходить следующий тест."
      ]
    },
    {
      "cell_type": "code",
      "execution_count": 15,
      "metadata": {
        "id": "qVJnolh-mufq"
      },
      "outputs": [],
      "source": [
        "def test_process_traj_batch(process_traj_batch):\n",
        "    \n",
        "    transition = collections.namedtuple(\"transition\", [\"state\", \"action\", \"reward\"])\n",
        "    \n",
        "    class HelperPolicy(nn.Module):\n",
        "        def __init__(self):\n",
        "            super(HelperPolicy, self).__init__()\n",
        "        \n",
        "            self.act = nn.Sequential(\n",
        "                nn.Linear(4, 2),\n",
        "                nn.Softmax(dim=0),\n",
        "            )\n",
        "        \n",
        "        def forward(self, x):\n",
        "            return self.act(x)\n",
        "        \n",
        "    policy = HelperPolicy()\n",
        "    \n",
        "    for name, param in policy.named_parameters():\n",
        "        if name == \"act.0.weight\":\n",
        "            param.data = torch.tensor([[1.7492, -0.2471, 0.3310, 1.1494],\n",
        "                                       [0.6171, -0.6026, 0.5025, -0.3196]])\n",
        "        else:\n",
        "            param.data = torch.tensor([0.0262, 0.1882])\n",
        "            \n",
        "    batch = [\n",
        "        [\n",
        "            transition(state=torch.tensor([ 0.0462, -0.0018,  0.0372,  0.0063]), action=torch.tensor(0), reward=1.0), \n",
        "            transition(state=torch.tensor([ 0.0462, -0.1975,  0.0373,  0.3105]), action=torch.tensor(1), reward=1.0), \n",
        "            transition(state=torch.tensor([ 0.0422, -0.0029,  0.0435,  0.0298]), action=torch.tensor(0), reward=1.0), \n",
        "            transition(state=torch.tensor([ 0.0422, -0.1986,  0.0441,  0.3359]), action=torch.tensor(0), reward=1.0), \n",
        "        ],\n",
        "        [\n",
        "            transition(state=torch.tensor([ 0.0382, -0.3943,  0.0508,  0.6421]), action=torch.tensor(1), reward=1.0), \n",
        "            transition(state=torch.tensor([ 0.0303, -0.2000,  0.0637,  0.3659]), action=torch.tensor(1), reward=1.0), \n",
        "            transition(state=torch.tensor([ 0.0263, -0.0058,  0.0710,  0.0939]), action=torch.tensor(1), reward=1.0), \n",
        "            transition(state=torch.tensor([ 0.0262,  0.1882,  0.0729, -0.1755]), action=torch.tensor(0), reward=1.0)\n",
        "        ]\n",
        "    ]\n",
        "    \n",
        "    log_probs, returns = process_traj_batch(policy, batch, 0.9)\n",
        "    assert sum(log_probs).item() == -6.3940582275390625, \"Log probabilities calculation is incorrect!!!\"\n",
        "    assert sum(returns) == 18.098, \"Log probabilities calculation is incorrect!!!\"\n",
        "    print(\"Correct!\")"
      ]
    },
    {
      "cell_type": "code",
      "execution_count": 16,
      "metadata": {
        "id": "_qKrJpyBmufu",
        "colab": {
          "base_uri": "https://localhost:8080/"
        },
        "outputId": "9035092e-8e02-4b14-c49e-3c42e23194db"
      },
      "outputs": [
        {
          "output_type": "stream",
          "name": "stdout",
          "text": [
            "Correct!\n"
          ]
        }
      ],
      "source": [
        "test_process_traj_batch(process_traj_batch)"
      ]
    },
    {
      "cell_type": "markdown",
      "metadata": {
        "id": "7_y4MJPxmufz"
      },
      "source": [
        "### Вспомогательные функции и гиперпараметры"
      ]
    },
    {
      "cell_type": "markdown",
      "metadata": {
        "id": "PKF5itlpmuf0"
      },
      "source": [
        "Функция для расчета скользящего среднего - ее мы будем использовать для визуализации наград по эпизодам."
      ]
    },
    {
      "cell_type": "code",
      "execution_count": 17,
      "metadata": {
        "id": "tHgXs9aPmuf2"
      },
      "outputs": [],
      "source": [
        "moving_average = lambda x, **kw: pd.DataFrame({'x':np.asarray(x)}).x.ewm(**kw).mean().values"
      ]
    },
    {
      "cell_type": "markdown",
      "metadata": {
        "id": "P3oqmQmxmuf6"
      },
      "source": [
        "Определим также гиперпараметры."
      ]
    },
    {
      "cell_type": "code",
      "execution_count": 18,
      "metadata": {
        "id": "cFSLjGjOms0m"
      },
      "outputs": [],
      "source": [
        "STATE_SIZE  = env.observation_space.shape[0] # размерность пространства состояний среды\n",
        "ACT_SIZE = env.action_space.n # размерность пространства действий среды\n",
        "HIDDEN_SIZE = 256 # размер скрытого слоя для политики\n",
        "NUM_EPISODES = 1000 # количество эпиздов, которые будут сыграны для обучения\n",
        "DISCOUNT = 0.99 # фактор дисконтирования\n",
        "TRAIN_EVERY = 20"
      ]
    },
    {
      "cell_type": "markdown",
      "metadata": {
        "id": "d1RZfo_1muf-"
      },
      "source": [
        "Инициализуем политику и алгоритм оптимизации - мы будем использовать Adam c праметрами по умолчанию."
      ]
    },
    {
      "cell_type": "code",
      "execution_count": 19,
      "metadata": {
        "id": "zEKqg4Ykmuf_"
      },
      "outputs": [],
      "source": [
        "policy = Policy(STATE_SIZE, ACT_SIZE, HIDDEN_SIZE).to(device)\n",
        "optimizer = Adam(policy.parameters())"
      ]
    },
    {
      "cell_type": "code",
      "execution_count": 20,
      "metadata": {
        "id": "EIbRMh3MmugC"
      },
      "outputs": [],
      "source": [
        "transition = collections.namedtuple(\"transition\", [\"state\", \"action\", \"reward\"])"
      ]
    },
    {
      "cell_type": "markdown",
      "metadata": {
        "id": "jRRCJTnimugE"
      },
      "source": [
        "### Основной цикл обучения"
      ]
    },
    {
      "cell_type": "markdown",
      "metadata": {
        "id": "FcQ4-JMymugE"
      },
      "source": [
        "Теперь, когда мы опредлели вспомогательные функции, то нам следует написать основной цикл обучения агент.\n",
        "В цикле должно происходить следующее:"
      ]
    },
    {
      "cell_type": "markdown",
      "metadata": {
        "id": "1wih2vIYmugG"
      },
      "source": [
        "1. Играем количество эпизодов, определенное в гиперпараметре ```NUM_EPISODES```.\n",
        "2. В каждом эпизоде сохраняем информацию о шагах на траектории - состояние, действие и награду.\n",
        "3. В конце каждого эпизода сохраняем вышеуказанную информацию о траектории. \n",
        "4. Периодически обучаемся на собранных эпизодах каждые ```TRAIN_EVERY``` эпизодов:  \n",
        "    4.1. Считаем для собранного батча для каждого шага на трактории правдоподобие и сумму дисконтированных наград.  \n",
        "    4.2. Обновляем параметры политики агента по формуле, приведенной на схеме."
      ]
    },
    {
      "cell_type": "markdown",
      "metadata": {
        "id": "gb1eIuJqmugI"
      },
      "source": [
        "**Задание:** Реализовать алгоритм обучения, описанный на схеме и в тексте выше. Шаблон кода алгоритма представлен ниже. При этом следует сохранять сумму ревордов для каждого эпизода в переменную ```returns_history```. Алгоритму потребуется около 1000 эпизодов игры, для того чтобы научиться играть в игру (если после 1000 эпизодов агент играет немного хуже, чем для победы в игре, попробуйте обучать его немного дольше или установите критерий останова - когда средняя награда за 100 последних эпизодов превышает значение в ```env.spec.reward_threshold``` )"
      ]
    },
    {
      "cell_type": "code",
      "execution_count": 21,
      "metadata": {
        "id": "cvEwjezan5tl",
        "colab": {
          "base_uri": "https://localhost:8080/",
          "height": 545
        },
        "outputId": "a9171295-d383-46d6-d86b-f9b80103897f"
      },
      "outputs": [
        {
          "output_type": "display_data",
          "data": {
            "text/plain": [
              "<Figure size 1200x600 with 1 Axes>"
            ],
            "image/png": "[encoded data removed]"
          },
          "metadata": {}
        }
      ],
      "source": [
        "returns_history = []\n",
        "traj_batch = []\n",
        "\n",
        "for i in range(NUM_EPISODES):\n",
        "        \n",
        "    observation = env.reset()\n",
        "    rewards = 0\n",
        "    trajectory = []\n",
        "    \n",
        "    while True:\n",
        "        with torch.no_grad():\n",
        "            observation = torch.FloatTensor(observation).cuda()\n",
        "            prev_observation = observation      \n",
        "            probs = policy(observation)            \n",
        "            dist = Categorical(probs)\n",
        "            action = dist.sample().item()\n",
        "            observation, reward, done, info = env.step(action)\n",
        "            trajectory.append(transition(prev_observation, torch.tensor(action).cuda(), reward))\n",
        "            rewards += reward\n",
        "            if done:\n",
        "                break\n",
        "        \n",
        "    returns_history.append(rewards)\n",
        "            \n",
        "    traj_batch.append(trajectory)\n",
        "    \n",
        "    if i % TRAIN_EVERY:\n",
        "        log_probs, returns = process_traj_batch(policy, traj_batch, DISCOUNT)\n",
        "        loss = -(torch.stack(log_probs) * torch.FloatTensor(returns).to(device)).sum()\n",
        "        optimizer.zero_grad()\n",
        "        loss.backward()\n",
        "        optimizer.step()\n",
        "        \n",
        "        traj_batch = []\n",
        "\n",
        "    if i % 10:\n",
        "        clear_output(True)\n",
        "        plt.figure(figsize=[12, 6])\n",
        "        plt.title('Returns'); plt.grid()\n",
        "        plt.scatter(np.arange(len(returns_history)), returns_history, alpha=0.1)\n",
        "        plt.plot(moving_average(returns_history, span=10, min_periods=10))\n",
        "        plt.show()"
      ]
    },
    {
      "cell_type": "markdown",
      "metadata": {
        "id": "Be9Zh-MamugN"
      },
      "source": [
        "Протестируем обученного агента."
      ]
    },
    {
      "cell_type": "code",
      "execution_count": 22,
      "metadata": {
        "id": "-ry9g_aBmugO",
        "colab": {
          "base_uri": "https://localhost:8080/"
        },
        "outputId": "806190a7-4aa2-42fa-d964-fa5bd4f6622f"
      },
      "outputs": [
        {
          "output_type": "stream",
          "name": "stdout",
          "text": [
            "Episode 1 finished after 201 timesteps\n",
            "Episode 2 finished after 201 timesteps\n",
            "Episode 3 finished after 201 timesteps\n",
            "Episode 4 finished after 201 timesteps\n",
            "Episode 5 finished after 201 timesteps\n",
            "Episode 6 finished after 201 timesteps\n",
            "Episode 7 finished after 201 timesteps\n",
            "Episode 8 finished after 201 timesteps\n",
            "Episode 9 finished after 201 timesteps\n",
            "Episode 10 finished after 201 timesteps\n",
            "Episode 11 finished after 201 timesteps\n",
            "Episode 12 finished after 201 timesteps\n",
            "Episode 13 finished after 201 timesteps\n",
            "Episode 14 finished after 201 timesteps\n",
            "Episode 15 finished after 201 timesteps\n",
            "Episode 16 finished after 201 timesteps\n",
            "Episode 17 finished after 201 timesteps\n",
            "Episode 18 finished after 194 timesteps\n",
            "Episode 19 finished after 201 timesteps\n",
            "Episode 20 finished after 201 timesteps\n",
            "Episode 21 finished after 201 timesteps\n",
            "Episode 22 finished after 201 timesteps\n",
            "Episode 23 finished after 201 timesteps\n",
            "Episode 24 finished after 201 timesteps\n",
            "Episode 25 finished after 201 timesteps\n",
            "Episode 26 finished after 201 timesteps\n",
            "Episode 27 finished after 201 timesteps\n",
            "Episode 28 finished after 201 timesteps\n",
            "Episode 29 finished after 201 timesteps\n",
            "Episode 30 finished after 201 timesteps\n",
            "Episode 31 finished after 201 timesteps\n",
            "Episode 32 finished after 201 timesteps\n",
            "Episode 33 finished after 201 timesteps\n",
            "Episode 34 finished after 201 timesteps\n",
            "Episode 35 finished after 201 timesteps\n",
            "Episode 36 finished after 95 timesteps\n",
            "Episode 37 finished after 201 timesteps\n",
            "Episode 38 finished after 201 timesteps\n",
            "Episode 39 finished after 201 timesteps\n",
            "Episode 40 finished after 201 timesteps\n",
            "Episode 41 finished after 201 timesteps\n",
            "Episode 42 finished after 201 timesteps\n",
            "Episode 43 finished after 201 timesteps\n",
            "Episode 44 finished after 201 timesteps\n",
            "Episode 45 finished after 201 timesteps\n",
            "Episode 46 finished after 106 timesteps\n",
            "Episode 47 finished after 201 timesteps\n",
            "Episode 48 finished after 201 timesteps\n",
            "Episode 49 finished after 201 timesteps\n",
            "Episode 50 finished after 201 timesteps\n",
            "Episode 51 finished after 201 timesteps\n",
            "Episode 52 finished after 135 timesteps\n",
            "Episode 53 finished after 201 timesteps\n",
            "Episode 54 finished after 201 timesteps\n",
            "Episode 55 finished after 201 timesteps\n",
            "Episode 56 finished after 201 timesteps\n",
            "Episode 57 finished after 201 timesteps\n",
            "Episode 58 finished after 201 timesteps\n",
            "Episode 59 finished after 201 timesteps\n",
            "Episode 60 finished after 201 timesteps\n",
            "Episode 61 finished after 201 timesteps\n",
            "Episode 62 finished after 201 timesteps\n",
            "Episode 63 finished after 201 timesteps\n",
            "Episode 64 finished after 201 timesteps\n",
            "Episode 65 finished after 170 timesteps\n",
            "Episode 66 finished after 201 timesteps\n",
            "Episode 67 finished after 201 timesteps\n",
            "Episode 68 finished after 201 timesteps\n",
            "Episode 69 finished after 201 timesteps\n",
            "Episode 70 finished after 201 timesteps\n",
            "Episode 71 finished after 201 timesteps\n",
            "Episode 72 finished after 201 timesteps\n",
            "Episode 73 finished after 201 timesteps\n",
            "Episode 74 finished after 201 timesteps\n",
            "Episode 75 finished after 201 timesteps\n",
            "Episode 76 finished after 154 timesteps\n",
            "Episode 77 finished after 201 timesteps\n",
            "Episode 78 finished after 201 timesteps\n",
            "Episode 79 finished after 201 timesteps\n",
            "Episode 80 finished after 201 timesteps\n",
            "Episode 81 finished after 201 timesteps\n",
            "Episode 82 finished after 201 timesteps\n",
            "Episode 83 finished after 201 timesteps\n",
            "Episode 84 finished after 201 timesteps\n",
            "Episode 85 finished after 198 timesteps\n",
            "Episode 86 finished after 201 timesteps\n",
            "Episode 87 finished after 201 timesteps\n",
            "Episode 88 finished after 201 timesteps\n",
            "Episode 89 finished after 201 timesteps\n",
            "Episode 90 finished after 201 timesteps\n",
            "Episode 91 finished after 201 timesteps\n",
            "Episode 92 finished after 201 timesteps\n",
            "Episode 93 finished after 201 timesteps\n",
            "Episode 94 finished after 201 timesteps\n",
            "Episode 95 finished after 201 timesteps\n",
            "Episode 96 finished after 201 timesteps\n",
            "Episode 97 finished after 201 timesteps\n",
            "Episode 98 finished after 201 timesteps\n",
            "Episode 99 finished after 201 timesteps\n",
            "Episode 100 finished after 201 timesteps\n"
          ]
        },
        {
          "output_type": "execute_result",
          "data": {
            "text/plain": [
              "196.45"
            ]
          },
          "metadata": {},
          "execution_count": 22
        }
      ],
      "source": [
        "test_agent(env, agent=policy, n_episodes=100)"
      ]
    },
    {
      "cell_type": "markdown",
      "metadata": {
        "id": "rf18pOwCmugS"
      },
      "source": [
        "Обученный агент должен приближаться к искомому значению средней награды за 100 эпизодов 195."
      ]
    },
    {
      "cell_type": "markdown",
      "metadata": {
        "id": "Gk3bQdF_mugT"
      },
      "source": [
        "Визуализируем обученного агента."
      ]
    },
    {
      "cell_type": "code",
      "execution_count": 24,
      "metadata": {
        "id": "c6QvXvwUsct6",
        "colab": {
          "base_uri": "https://localhost:8080/",
          "height": 422
        },
        "outputId": "33022a14-0ecc-49d8-a32e-ffc42aa9494d"
      },
      "outputs": [
        {
          "output_type": "display_data",
          "data": {
            "text/plain": [
              "<IPython.core.display.HTML object>"
            ],
            "text/html": [
              "<video alt=\"test\" autoplay \n",
              "                loop controls style=\"height: 400px;\">\n",
              "                <source src=\"data:video/mp4;base64,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\" type=\"video/mp4\" />\n",
              "             </video>"
            ]
          },
          "metadata": {}
        }
      ],
      "source": [
        "agent_viz(agent=policy)\n",
        "show_video()"
      ]
    },
    {
      "cell_type": "markdown",
      "metadata": {
        "id": "YKkrymnnmugU"
      },
      "source": [
        "Как видно, агент выучил довольно хорошую стратегию для игры и способен долго удерживать шест."
      ]
    },
    {
      "cell_type": "markdown",
      "metadata": {
        "id": "NHxdzJsQmugV"
      },
      "source": [
        "### REINFORCE with baselines (Опционально)"
      ]
    },
    {
      "cell_type": "markdown",
      "source": [],
      "metadata": {
        "id": "Vt4GI57WMb7z"
      }
    },
    {
      "cell_type": "markdown",
      "metadata": {
        "id": "QM0DmpwlmugX"
      },
      "source": [
        "В лекциях вы слышали, что при расчете градиентов для обновления параметров политики агента мы можем вычесть из суммы дисконтированных наград ```baseline``` для уменьшения дисперсии градиентов и ускорения сходимости обучения - такой алгоритм называется REINFORCE with baselines. В качестве ```baseline``` мы можем использовать другую нейронную сеть, которая будет оценивать сумму дисконтированных наград из данного состояния *V(s)*. "
      ]
    },
    {
      "cell_type": "markdown",
      "metadata": {
        "id": "jImFlpefmugX"
      },
      "source": [
        "Схема алгоритма REINFORCE with baselines (Sutton & Barto) <img src=\"//i.imgur.com/j3BcbHP.png\" width=\"700\">"
      ]
    },
    {
      "cell_type": "markdown",
      "metadata": {
        "id": "ofDdKiKJmugY"
      },
      "source": [
        "**Задание**: Включите в уже разработанный алгоритм вторую нейронную сеть для оценки суммы дисконтированных наград *V(s)*. Используйте разницу между фактической суммой дисконтированных наград и оценкой в формуле функции потерь политики. В качестве функции потерь для *V(s)* используйте ```MSELoss```. Оцените скорость сходимости нового алгоритма."
      ]
    }
  ],
  "metadata": {
    "accelerator": "GPU",
    "colab": {
      "provenance": [],
      "gpuType": "T4"
    },
    "kernelspec": {
      "display_name": "Python 3",
      "language": "python",
      "name": "python3"
    },
    "language_info": {
      "codemirror_mode": {
        "name": "ipython",
        "version": 3
      },
      "file_extension": ".py",
      "mimetype": "text/x-python",
      "name": "python",
      "nbconvert_exporter": "python",
      "pygments_lexer": "ipython3",
      "version": "3.7.0"
    },
    "gpuClass": "standard"
  },
  "nbformat": 4,
  "nbformat_minor": 0
}